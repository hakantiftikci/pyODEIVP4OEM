{
 "cells": [
  {
   "cell_type": "markdown",
   "metadata": {},
   "source": [
    "example systems\n",
    "\n",
    "$$ m\\ddot{x}+c\\dot{x}+kx=u\\left(t\\right) $$"
   ]
  },
  {
   "cell_type": "code",
   "execution_count": 1,
   "metadata": {
    "collapsed": true
   },
   "outputs": [],
   "source": [
    "import numpy"
   ]
  },
  {
   "cell_type": "code",
   "execution_count": 2,
   "metadata": {
    "collapsed": true
   },
   "outputs": [],
   "source": [
    "import matplotlib.pyplot as plt"
   ]
  },
  {
   "cell_type": "code",
   "execution_count": 3,
   "metadata": {
    "collapsed": true
   },
   "outputs": [],
   "source": [
    "%matplotlib inline"
   ]
  },
  {
   "cell_type": "code",
   "execution_count": 16,
   "metadata": {
    "collapsed": true
   },
   "outputs": [],
   "source": [
    "# %load pyRK4.py\n",
    "\"\"\"\n",
    "Created on Mon Mar 17 17:20:35 2014\n",
    "\n",
    "@author: tai\n",
    "- set the convention that output argument is always the last for fu,fdx,fy\n",
    " - fu,fy syntax changed\n",
    "\"\"\"\n",
    "\n",
    "def stateDerivative(t,x,u,fu,fdx,px,pu,dx):   \n",
    "    fu(t,x,pu,u)\n",
    "    fdx(t,x,u,px,dx)\n",
    "\n",
    "\n",
    "def RK4(fdx,fu,fy,x0,tv,xv,uv,yv,px,pu,py,nx,nu,ny,nt):\n",
    "    \"\"\"\n",
    "    fdx     :      state derivative function\n",
    "                   fdx(t,x,u,px,dx)\n",
    "    fu      :      input function\n",
    "    fy      :      output function\n",
    "    x0      :      initial state vector\n",
    "    tv      :      time vectors to obtain solution at\n",
    "    xv      :      storage for solution states\n",
    "    yv      :      storage for solution outputs\n",
    "    px      :      extra argumens(parameters) for state derivative fdx\n",
    "    pu      :      extra argumens(parameters) for output function fy\n",
    "    py      :      extran arguments(parameters) for output function fy    \n",
    "    \"\"\"\n",
    "\n",
    "    a = numpy.array([ \n",
    "            [0.0, 0.0, 0.0, 0.0] ,  \n",
    "            [1.0/2.0,0.0,0.0,0.0] , \n",
    "            [0.0,1.0/2.0,0.0,0.0] , \n",
    "            [0.0,0.0,1.0,0.0] ], numpy.float64)\n",
    "    b = numpy.array([ 1.0/6.0, 1.0/3.0, 1.0/3.0, 1.0/6.0 ], numpy.float64)\n",
    "    c = numpy.array([ 0.0, 1.0/2.0, 1.0/2.0, 1.0 ], numpy.float64)\n",
    "    \n",
    "    x = numpy.zeros_like(x0)\n",
    "    u = numpy.empty((nu,), x0.dtype)\n",
    "    y = numpy.empty((ny,), x0.dtype)\n",
    "    k = numpy.zeros((nx,4), x0.dtype)\n",
    "    \n",
    "    print \"u.size\", u.shape\n",
    "    print \"x.size\", x.shape\n",
    "    print \"y.size\", y.shape\n",
    "    \n",
    "    \"\"\"\n",
    "    if False:\n",
    "        xv = numpy.zeros((nx,nt), x0.dtype)\n",
    "        uv = numpy.zeros((nu,nt), x0.dtype)\n",
    "        yv = numpy.zeros((ny,nt), x0.dtype)\n",
    "    else:\n",
    "        xv.resize((nx,nt))\n",
    "        uv.resize((nu,nt))\n",
    "        yv.resize((ny,nt))\n",
    "    \"\"\"\n",
    "\n",
    "    t = tv[0]\n",
    "    print \"x, x0 ids before = \",id(x),id(x0)    \n",
    "    x = x0*1.0  # \n",
    "    print \"x, x0 ids after  = \",id(x),id(x0)\n",
    "\n",
    "    fu(t,x,pu,u)\n",
    "    fdx(t,x,u,px,dx)\n",
    "    fy(t,x,dx,u,px,pu,py,y)\n",
    "\n",
    "    print \"xv.shape\",xv.shape\n",
    "    xv[:,0] = x\n",
    "    uv[:,0] = u\n",
    "    yv[:,0] = y\n",
    "\n",
    "    for m in range(nt-1):\n",
    "        dt = tv[m+1]-tv[m]\n",
    "\n",
    "        deltax = 0    # ! better to use vector of size nx??\n",
    "        for i in range(4):\n",
    "            xstage = x*1.0\n",
    "            for j in range(i-1):\n",
    "                xstage = xstage+dt*a[i,j]*k[:,j]\n",
    "            # def stateDerivative(t,x,u,fu,fdx,px,pu,dx):   \n",
    "            stateDerivative(t+c[i]*dt, xstage, u, fu, fdx, px, pu, k[:,i])\n",
    "            deltax = deltax + dt*b[i]*k[:,i]\n",
    "   \n",
    "        x = x + deltax\n",
    "        t = t + dt\n",
    "        \n",
    "        #print \"u.size\", u.shape\n",
    "        #print \"x.size\", x.shape\n",
    "        #print \"y.size\", y.shape        \n",
    "        fu(t,x,pu,u)\n",
    "        fdx(t,x,u,px,dx)\n",
    "        fy(t,x,dx,u,px,pu,py,y)\n",
    "\n",
    "        xv[:,1+m] = x\n",
    "        uv[:,1+m] = u\n",
    "        yv[:,1+m] = y"
   ]
  },
  {
   "cell_type": "code",
   "execution_count": 17,
   "metadata": {
    "collapsed": true
   },
   "outputs": [],
   "source": [
    "def fdx1(t,x,u,px,dx):\n",
    "    m = px[0]\n",
    "    c = px[1]\n",
    "    k = px[2]\n",
    "    dx[0] = x[1]\n",
    "    dx[1] = (u[0]-c*x[1]-k*x[0])/m\n",
    "    \n",
    "    \n",
    "def fu1(t,x,pu,u):\n",
    "    freq = pu[0]\n",
    "    u = numpy.sin(freq*t)\n",
    "    \n",
    "def fy1(t,x,dx,u,px,pu,py,y):\n",
    "    y[0] = x[0]   # position\n",
    "    y[1] = x[1]   # velocity\n",
    "    y[2] = dx[1]  # acceleration\n",
    "    y[3] = 0.5*px[0]*x[1]**2  # kinetic energy\n",
    "    "
   ]
  },
  {
   "cell_type": "markdown",
   "metadata": {},
   "source": [
    "# check column assignment works or not "
   ]
  },
  {
   "cell_type": "code",
   "execution_count": 18,
   "metadata": {
    "collapsed": true
   },
   "outputs": [],
   "source": [
    "k = numpy.zeros((2,4), numpy.float64)\n",
    "dx = numpy.zeros((2,), numpy.float64)"
   ]
  },
  {
   "cell_type": "code",
   "execution_count": 19,
   "metadata": {
    "collapsed": true
   },
   "outputs": [],
   "source": [
    "fdx1(0., [0.1, 0.2], [1.], [1., 2., 3.], dx)\n",
    "fdx1(0., [0.1, 0.2], [1.], [1., 2., 3.], k[:,0])"
   ]
  },
  {
   "cell_type": "code",
   "execution_count": 20,
   "metadata": {
    "collapsed": false
   },
   "outputs": [
    {
     "name": "stdout",
     "output_type": "stream",
     "text": [
      "[ 0.2  0.3]\n",
      "[[ 0.2  0.   0.   0. ]\n",
      " [ 0.3  0.   0.   0. ]]\n"
     ]
    }
   ],
   "source": [
    "print dx\n",
    "print k"
   ]
  },
  {
   "cell_type": "markdown",
   "metadata": {},
   "source": [
    "# test integrator on SMD"
   ]
  },
  {
   "cell_type": "code",
   "execution_count": 21,
   "metadata": {
    "collapsed": false
   },
   "outputs": [
    {
     "name": "stdout",
     "output_type": "stream",
     "text": [
      "u.size (1,)\n",
      "x.size (2,)\n",
      "y.size (4,)\n",
      "x, x0 ids before =  140503611541584 140503573600816\n",
      "x, x0 ids after  =  140503571185872 140503573600816\n",
      "xv.shape (2, 100)\n"
     ]
    }
   ],
   "source": [
    "tv = numpy.arange(0,10,0.1, numpy.float64)\n",
    "nt = len(tv)\n",
    "nx = 2\n",
    "nu = 1\n",
    "ny = 4\n",
    "px = numpy.array([1., .1, 3.], numpy.float64)\n",
    "pu = numpy.array([0.2], numpy.float64)\n",
    "py = numpy.array([], numpy.float64)\n",
    "x0 = numpy.array([1., 0.5], numpy.float64)\n",
    "xv = numpy.empty([nx,nt], numpy.float64)\n",
    "yv = numpy.empty([ny,nt], numpy.float64)\n",
    "uv = numpy.empty([nu,nt], numpy.float64)\n",
    "RK4(fdx1,fu1,fy1,x0,tv,xv,uv,yv,px,pu,py,nx,nu,ny,nt)"
   ]
  },
  {
   "cell_type": "code",
   "execution_count": 23,
   "metadata": {
    "collapsed": false
   },
   "outputs": [
    {
     "data": {
      "text/plain": [
       "[<matplotlib.lines.Line2D at 0x7fc9895b4650>]"
      ]
     },
     "execution_count": 23,
     "metadata": {},
     "output_type": "execute_result"
    },
    {
     "data": {
      "image/png": "[encoded data removed]",
      "text/plain": [
       "<matplotlib.figure.Figure at 0x7fc989963890>"
      ]
     },
     "metadata": {},
     "output_type": "display_data"
    }
   ],
   "source": [
    "plt.plot(tv,yv[2,:],'.-')"
   ]
  },
  {
   "cell_type": "markdown",
   "metadata": {
    "collapsed": true
   },
   "source": [
    "# symbolic solution"
   ]
  },
  {
   "cell_type": "code",
   "execution_count": 24,
   "metadata": {
    "collapsed": true
   },
   "outputs": [],
   "source": [
    "import sympy"
   ]
  },
  {
   "cell_type": "code",
   "execution_count": 30,
   "metadata": {
    "collapsed": true
   },
   "outputs": [],
   "source": [
    "m,c,k,x,t,u = sympy.symbols('m c k x t u')"
   ]
  },
  {
   "cell_type": "code",
   "execution_count": 53,
   "metadata": {
    "collapsed": false
   },
   "outputs": [
    {
     "ename": "SyntaxError",
     "evalue": "invalid syntax (<ipython-input-53-a22f27d0ad2b>, line 1)",
     "output_type": "error",
     "traceback": [
      "\u001b[1;36m  File \u001b[1;32m\"<ipython-input-53-a22f27d0ad2b>\"\u001b[1;36m, line \u001b[1;32m1\u001b[0m\n\u001b[1;33m    eqs = [sympy.Eq(m*x(t).diff(t,t)+c*x(t).diff(t)+k*x(t),u(t)),x(0)=1,\u001b[0m\n\u001b[1;37m                                                                     ^\u001b[0m\n\u001b[1;31mSyntaxError\u001b[0m\u001b[1;31m:\u001b[0m invalid syntax\n"
     ]
    }
   ],
   "source": [
    "eqs = [sympy.Eq(m*x(t).diff(t,t)+c*x(t).diff(t)+k*x(t),u(t)),x(0)=1,\n",
    "       x(t).diff(t).subs({t:0.5}),\n",
    "       x(t).diff(t).subs({t:0})=0.5]"
   ]
  },
  {
   "cell_type": "code",
   "execution_count": 52,
   "metadata": {
    "collapsed": false
   },
   "outputs": [
    {
     "data": {
      "text/plain": [
       "[Eq(c*Derivative(x(t), t) + k*x(t) + m*Derivative(x(t), t, t), u(t)),\n",
       " False,\n",
       " Subs(Derivative(x(t), t), (t,), (0.5,)),\n",
       " False]"
      ]
     },
     "execution_count": 52,
     "metadata": {},
     "output_type": "execute_result"
    }
   ],
   "source": [
    "eqs"
   ]
  },
  {
   "cell_type": "code",
   "execution_count": 49,
   "metadata": {
    "collapsed": false
   },
   "outputs": [
    {
     "data": {
      "text/plain": [
       "x(0.5)"
      ]
     },
     "execution_count": 49,
     "metadata": {},
     "output_type": "execute_result"
    }
   ],
   "source": [
    "x(t).subs({t:0.5})"
   ]
  },
  {
   "cell_type": "code",
   "execution_count": 38,
   "metadata": {
    "collapsed": false
   },
   "outputs": [],
   "source": [
    "sol=sympy.dsolve(eqs,x(t))"
   ]
  },
  {
   "cell_type": "code",
   "execution_count": 39,
   "metadata": {
    "collapsed": false
   },
   "outputs": [
    {
     "data": {
      "text/plain": [
       "Eq(x(t), C1*exp(t*(-c - sqrt(c**2 - 4*k*m))/(2*m)) + C2*exp(t*(-c + sqrt(c**2 - 4*k*m))/(2*m)) - exp(t*(-c - sqrt(c**2 - 4*k*m))/(2*m))*Integral(u(t)*exp(c*t/(2*m))*exp(t*sqrt(c**2 - 4*k*m)/(2*m)), t)/sqrt(c**2 - 4*k*m) + exp(t*(-c + sqrt(c**2 - 4*k*m))/(2*m))*Integral(u(t)*exp(c*t/(2*m))*exp(-t*sqrt(c**2 - 4*k*m)/(2*m)), t)/sqrt(c**2 - 4*k*m))"
      ]
     },
     "execution_count": 39,
     "metadata": {},
     "output_type": "execute_result"
    }
   ],
   "source": [
    "sol"
   ]
  },
  {
   "cell_type": "code",
   "execution_count": 43,
   "metadata": {
    "collapsed": false
   },
   "outputs": [
    {
     "data": {
      "text/plain": [
       "Eq(x(t), C1*exp(t*(-1 - sqrt(11)*I)/2) + C2*exp(t*(-1 + sqrt(11)*I)/2) + sqrt(11)*I*exp(t*(-1 - sqrt(11)*I)/2)*Integral(exp(t/2)*exp(sqrt(11)*I*t/2)*sin(0.2*t), t)/11 - sqrt(11)*I*exp(t*(-1 + sqrt(11)*I)/2)*Integral(exp(t/2)*exp(-sqrt(11)*I*t/2)*sin(0.2*t), t)/11)"
      ]
     },
     "execution_count": 43,
     "metadata": {},
     "output_type": "execute_result"
    }
   ],
   "source": [
    "sol.subs({c:1,m:1,k:3,u(t):sympy.sin(0.2*t)})"
   ]
  },
  {
   "cell_type": "code",
   "execution_count": 122,
   "metadata": {
    "collapsed": false
   },
   "outputs": [],
   "source": [
    "xv = numpy.empty([nx,nt], numpy.float64)"
   ]
  },
  {
   "cell_type": "code",
   "execution_count": 83,
   "metadata": {
    "collapsed": false
   },
   "outputs": [
    {
     "data": {
      "text/plain": [
       "(2, 100)"
      ]
     },
     "execution_count": 83,
     "metadata": {},
     "output_type": "execute_result"
    }
   ],
   "source": [
    "xv.shape"
   ]
  },
  {
   "cell_type": "code",
   "execution_count": 86,
   "metadata": {
    "collapsed": true
   },
   "outputs": [],
   "source": [
    "xv = numpy.zeros((nx,nt), numpy.float64)"
   ]
  },
  {
   "cell_type": "code",
   "execution_count": 87,
   "metadata": {
    "collapsed": false
   },
   "outputs": [
    {
     "data": {
      "text/plain": [
       "(2, 100)"
      ]
     },
     "execution_count": 87,
     "metadata": {},
     "output_type": "execute_result"
    }
   ],
   "source": [
    "xv.shape"
   ]
  },
  {
   "cell_type": "code",
   "execution_count": 88,
   "metadata": {
    "collapsed": true
   },
   "outputs": [],
   "source": [
    "xv[:,0] = [1,2]"
   ]
  },
  {
   "cell_type": "code",
   "execution_count": 89,
   "metadata": {
    "collapsed": false
   },
   "outputs": [
    {
     "data": {
      "text/plain": [
       "array([[ 1.,  0.,  0.,  0.,  0.,  0.,  0.,  0.,  0.,  0.,  0.,  0.,  0.,\n",
       "         0.,  0.,  0.,  0.,  0.,  0.,  0.,  0.,  0.,  0.,  0.,  0.,  0.,\n",
       "         0.,  0.,  0.,  0.,  0.,  0.,  0.,  0.,  0.,  0.,  0.,  0.,  0.,\n",
       "         0.,  0.,  0.,  0.,  0.,  0.,  0.,  0.,  0.,  0.,  0.,  0.,  0.,\n",
       "         0.,  0.,  0.,  0.,  0.,  0.,  0.,  0.,  0.,  0.,  0.,  0.,  0.,\n",
       "         0.,  0.,  0.,  0.,  0.,  0.,  0.,  0.,  0.,  0.,  0.,  0.,  0.,\n",
       "         0.,  0.,  0.,  0.,  0.,  0.,  0.,  0.,  0.,  0.,  0.,  0.,  0.,\n",
       "         0.,  0.,  0.,  0.,  0.,  0.,  0.,  0.,  0.],\n",
       "       [ 2.,  0.,  0.,  0.,  0.,  0.,  0.,  0.,  0.,  0.,  0.,  0.,  0.,\n",
       "         0.,  0.,  0.,  0.,  0.,  0.,  0.,  0.,  0.,  0.,  0.,  0.,  0.,\n",
       "         0.,  0.,  0.,  0.,  0.,  0.,  0.,  0.,  0.,  0.,  0.,  0.,  0.,\n",
       "         0.,  0.,  0.,  0.,  0.,  0.,  0.,  0.,  0.,  0.,  0.,  0.,  0.,\n",
       "         0.,  0.,  0.,  0.,  0.,  0.,  0.,  0.,  0.,  0.,  0.,  0.,  0.,\n",
       "         0.,  0.,  0.,  0.,  0.,  0.,  0.,  0.,  0.,  0.,  0.,  0.,  0.,\n",
       "         0.,  0.,  0.,  0.,  0.,  0.,  0.,  0.,  0.,  0.,  0.,  0.,  0.,\n",
       "         0.,  0.,  0.,  0.,  0.,  0.,  0.,  0.,  0.]])"
      ]
     },
     "execution_count": 89,
     "metadata": {},
     "output_type": "execute_result"
    }
   ],
   "source": [
    "xv"
   ]
  },
  {
   "cell_type": "code",
   "execution_count": null,
   "metadata": {
    "collapsed": true
   },
   "outputs": [],
   "source": []
  }
 ],
 "metadata": {
  "kernelspec": {
   "display_name": "Python [Root]",
   "language": "python",
   "name": "Python [Root]"
  },
  "language_info": {
   "codemirror_mode": {
    "name": "ipython",
    "version": 2
   },
   "file_extension": ".py",
   "mimetype": "text/x-python",
   "name": "python",
   "nbconvert_exporter": "python",
   "pygments_lexer": "ipython2",
   "version": "2.7.12"
  }
 },
 "nbformat": 4,
 "nbformat_minor": 0
}
