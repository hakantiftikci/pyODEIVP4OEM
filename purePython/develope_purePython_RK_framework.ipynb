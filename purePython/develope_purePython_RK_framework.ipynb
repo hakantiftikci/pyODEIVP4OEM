{
 "cells": [
  {
   "cell_type": "markdown",
   "metadata": {},
   "source": [
    "Example systems\n",
    "\n",
    "$$ m\\ddot{x}+c\\dot{x}+kx=u\\left(t\\right) $$"
   ]
  },
  {
   "cell_type": "code",
   "execution_count": 1,
   "metadata": {
    "collapsed": true
   },
   "outputs": [],
   "source": [
    "import numpy"
   ]
  },
  {
   "cell_type": "code",
   "execution_count": 2,
   "metadata": {
    "collapsed": true
   },
   "outputs": [],
   "source": [
    "import matplotlib.pyplot as plt"
   ]
  },
  {
   "cell_type": "code",
   "execution_count": 3,
   "metadata": {
    "collapsed": true
   },
   "outputs": [],
   "source": [
    "%matplotlib inline"
   ]
  },
  {
   "cell_type": "code",
   "execution_count": 110,
   "metadata": {
    "collapsed": false
   },
   "outputs": [],
   "source": [
    "# %load pyRK4.py\n",
    "\"\"\"\n",
    "Created on Mon Mar 17 17:20:35 2014\n",
    "\n",
    "@author: tai\n",
    "- set the convention that output argument is always the last for fu,fdx,fy\n",
    " - fu,fy syntax changed\n",
    "\"\"\"\n",
    "\n",
    "del RK4\n",
    "\n",
    "def stateDerivative(t,x,u,fu,fdx,px,pu,dx):   \n",
    "    fu(t,x,pu,u)\n",
    "    fdx(t,x,u,px,dx)\n",
    "\n",
    "\n",
    "def RK4(fdx,fu,fy,x0,tv,xv,uv,yv,px,pu,py,nx,nu,ny,nt):\n",
    "    \"\"\"\n",
    "    fdx     :      state derivative function\n",
    "                   fdx(t,x,u,px,dx)\n",
    "    fu      :      input function\n",
    "    fy      :      output function\n",
    "    x0      :      initial state vector\n",
    "    tv      :      time vectors to obtain solution at\n",
    "    xv      :      storage for solution states\n",
    "    yv      :      storage for solution outputs\n",
    "    px      :      extra argumens(parameters) for state derivative fdx\n",
    "    pu      :      extra argumens(parameters) for output function fy\n",
    "    py      :      extran arguments(parameters) for output function fy    \n",
    "    \"\"\"\n",
    "\n",
    "    a = numpy.array([ \n",
    "            [0.0, 0.0, 0.0, 0.0] ,  \n",
    "            [1.0/2.0,0.0,0.0,0.0] , \n",
    "            [0.0,1.0/2.0,0.0,0.0] , \n",
    "            [0.0,0.0,1.0,0.0] ], numpy.float64)\n",
    "    b = numpy.array([ 1.0/6.0, 1.0/3.0, 1.0/3.0, 1.0/6.0 ], numpy.float64)\n",
    "    c = numpy.array([ 0.0, 1.0/2.0, 1.0/2.0, 1.0 ], numpy.float64)\n",
    "    \n",
    "    x = numpy.zeros_like(x0)\n",
    "    u = numpy.empty((nu,), x0.dtype)\n",
    "    y = numpy.empty((ny,), x0.dtype)\n",
    "    k = numpy.zeros((nx,4), x0.dtype)\n",
    "    \n",
    "    print \"u.size\", u.shape\n",
    "    print \"x.size\", x.shape\n",
    "    print \"y.size\", y.shape\n",
    "    \n",
    "    \"\"\"\n",
    "    if False:\n",
    "        xv = numpy.zeros((nx,nt), x0.dtype)\n",
    "        uv = numpy.zeros((nu,nt), x0.dtype)\n",
    "        yv = numpy.zeros((ny,nt), x0.dtype)\n",
    "    else:\n",
    "        xv.resize((nx,nt))\n",
    "        uv.resize((nu,nt))\n",
    "        yv.resize((ny,nt))\n",
    "    \"\"\"\n",
    "\n",
    "    t = tv[0]\n",
    "    print \"x, x0 ids before = \",id(x),id(x0)    \n",
    "    x = x0*1.0  # \n",
    "    print \"x, x0 ids after  = \",id(x),id(x0)\n",
    "\n",
    "    fu(t,x,pu,u)\n",
    "    fdx(t,x,u,px,dx)\n",
    "    fy(t,x,dx,u,px,pu,py,y)\n",
    "\n",
    "    print \"xv.shape\",xv.shape\n",
    "    xv[:,0] = x\n",
    "    uv[:,0] = u\n",
    "    yv[:,0] = y\n",
    "\n",
    "    for m in range(nt-1):\n",
    "        dt = tv[m+1]-tv[m]\n",
    "\n",
    "        deltax = 0    # ! better to use vector of size nx??\n",
    "        for i in range(4):\n",
    "            xstage = x*1.0\n",
    "            for j in range(1+i):\n",
    "                xstage = xstage+dt*a[i,j]*k[:,j]\n",
    "            # def stateDerivative(t,x,u,fu,fdx,px,pu,dx):   \n",
    "            stateDerivative(t+c[i]*dt, xstage, u, fu, fdx, px, pu, k[:,i])\n",
    "            deltax = deltax + dt*b[i]*k[:,i]\n",
    "   \n",
    "        x = x + deltax\n",
    "        t = t + dt\n",
    "        \n",
    "        #print \"u.size\", u.shape\n",
    "        #print \"x.size\", x.shape\n",
    "        #print \"y.size\", y.shape        \n",
    "        fu(t,x,pu,u)\n",
    "        fdx(t,x,u,px,dx)\n",
    "        fy(t,x,dx,u,px,pu,py,y)\n",
    "\n",
    "        xv[:,1+m] = x\n",
    "        uv[:,1+m] = u\n",
    "        yv[:,1+m] = y"
   ]
  },
  {
   "cell_type": "code",
   "execution_count": 111,
   "metadata": {
    "collapsed": false
   },
   "outputs": [],
   "source": [
    "#range(2)"
   ]
  },
  {
   "cell_type": "code",
   "execution_count": 112,
   "metadata": {
    "collapsed": true
   },
   "outputs": [],
   "source": [
    "def fdx1(t,x,u,px,dx):\n",
    "    m = px[0]\n",
    "    c = px[1]\n",
    "    k = px[2]\n",
    "    dx[0] = x[1]\n",
    "    dx[1] = (u[0]-c*x[1]-k*x[0])/m\n",
    "    \n",
    "    \n",
    "def fu1(t,x,pu,u):\n",
    "    freq = pu[0]\n",
    "    u = numpy.sin(freq*t)\n",
    "    \n",
    "def fy1(t,x,dx,u,px,pu,py,y):\n",
    "    y[0] = x[0]   # position\n",
    "    y[1] = x[1]   # velocity\n",
    "    y[2] = dx[1]  # acceleration\n",
    "    y[3] = 0.5*px[0]*x[1]**2  # kinetic energy\n",
    "    "
   ]
  },
  {
   "cell_type": "markdown",
   "metadata": {},
   "source": [
    "# check column assignment works or not "
   ]
  },
  {
   "cell_type": "code",
   "execution_count": 113,
   "metadata": {
    "collapsed": true
   },
   "outputs": [],
   "source": [
    "k = numpy.zeros((2,4), numpy.float64)\n",
    "dx = numpy.zeros((2,), numpy.float64)"
   ]
  },
  {
   "cell_type": "code",
   "execution_count": 114,
   "metadata": {
    "collapsed": true
   },
   "outputs": [],
   "source": [
    "fdx1(0., [0.1, 0.2], [1.], [1., 2., 3.], dx)\n",
    "fdx1(0., [0.1, 0.2], [1.], [1., 2., 3.], k[:,0])"
   ]
  },
  {
   "cell_type": "code",
   "execution_count": 115,
   "metadata": {
    "collapsed": false
   },
   "outputs": [
    {
     "name": "stdout",
     "output_type": "stream",
     "text": [
      "[ 0.2  0.3]\n",
      "[[ 0.2  0.   0.   0. ]\n",
      " [ 0.3  0.   0.   0. ]]\n"
     ]
    }
   ],
   "source": [
    "print dx\n",
    "print k"
   ]
  },
  {
   "cell_type": "markdown",
   "metadata": {},
   "source": [
    "# test integrator on SMD"
   ]
  },
  {
   "cell_type": "code",
   "execution_count": 116,
   "metadata": {
    "collapsed": false
   },
   "outputs": [
    {
     "name": "stdout",
     "output_type": "stream",
     "text": [
      "u.size (1,)\n",
      "x.size (2,)\n",
      "y.size (4,)\n",
      "x, x0 ids before =  140701099352512 140701072259392\n",
      "x, x0 ids after  =  140701048425888 140701072259392\n",
      "xv.shape (2, 1000)\n"
     ]
    }
   ],
   "source": [
    "tv = numpy.arange(0,10,0.01, numpy.float64)\n",
    "nt = len(tv)\n",
    "nx = 2\n",
    "nu = 1\n",
    "ny = 4\n",
    "px = numpy.array([1., 1., 3.], numpy.float64)\n",
    "pu = numpy.array([0.5], numpy.float64)\n",
    "py = numpy.array([], numpy.float64)\n",
    "x0 = numpy.array([1., 0.5], numpy.float64)\n",
    "xv = numpy.empty([nx,nt], numpy.float64)\n",
    "yv = numpy.empty([ny,nt], numpy.float64)\n",
    "uv = numpy.empty([nu,nt], numpy.float64)\n",
    "RK4(fdx1,fu1,fy1,x0,tv,xv,uv,yv,px,pu,py,nx,nu,ny,nt)"
   ]
  },
  {
   "cell_type": "code",
   "execution_count": 117,
   "metadata": {
    "collapsed": false
   },
   "outputs": [
    {
     "data": {
      "text/plain": [
       "[<matplotlib.lines.Line2D at 0x7ff783f67a10>,\n",
       " <matplotlib.lines.Line2D at 0x7ff783f67b10>]"
      ]
     },
     "execution_count": 117,
     "metadata": {},
     "output_type": "execute_result"
    },
    {
     "data": {
      "image/png": "[encoded data removed]",
      "text/plain": [
       "<matplotlib.figure.Figure at 0x7ff7840d9d50>"
      ]
     },
     "metadata": {},
     "output_type": "display_data"
    }
   ],
   "source": [
    "plt.plot(tv,yv[0,:],'.-',tv,yv[1,:],'or',mec='r')"
   ]
  },
  {
   "cell_type": "markdown",
   "metadata": {},
   "source": [
    "# Maple Solution to SMD"
   ]
  },
  {
   "cell_type": "raw",
   "metadata": {},
   "source": [
    "generic solution is"
   ]
  },
  {
   "cell_type": "markdown",
   "metadata": {},
   "source": [
    "$$ x \\left( t \\right) =1/2\\,{\\frac {\\sqrt {{c}^{2}-4\\,km}{\\it x0}+c{\\it \n",
    "x0}+2\\,{\\it dx0}\\,m}{\\sqrt {{c}^{2}-4\\,km}}{{\\rm e}^{1/2\\,{\\frac {\n",
    " \\left( -c+\\sqrt {{c}^{2}-4\\,km} \\right) t}{m}}}}}-1/2\\,{\\frac {-\n",
    "\\sqrt {{c}^{2}-4\\,km}{\\it x0}+c{\\it x0}+2\\,{\\it dx0}\\,m}{\\sqrt {{c}^{2\n",
    "}-4\\,km}}{{\\rm e}^{-1/2\\,{\\frac { \\left( c+\\sqrt {{c}^{2}-4\\,km}\n",
    " \\right) t}{m}}}}}+{\\frac {1}{\\sqrt {{c}^{2}-4\\,km}} \\left( \\int_{0}^{\n",
    "t}\\!u \\left( {\\it \\_z1} \\right) {{\\rm e}^{-1/2\\,{\\frac { \\left( -c+\n",
    "\\sqrt {{c}^{2}-4\\,km} \\right) {\\it \\_z1}}{m}}}}\\,{\\rm d}{\\it \\_z1}{\n",
    "{\\rm e}^{{\\frac {t\\sqrt {{c}^{2}-4\\,km}}{m}}}}-\\int_{0}^{t}\\!u \\left( \n",
    "{\\it \\_z1} \\right) {{\\rm e}^{1/2\\,{\\frac { \\left( c+\\sqrt {{c}^{2}-4\\,\n",
    "km} \\right) {\\it \\_z1}}{m}}}}\\,{\\rm d}{\\it \\_z1} \\right) {{\\rm e}^{-1/\n",
    "2\\,{\\frac { \\left( c+\\sqrt {{c}^{2}-4\\,km} \\right) t}{m}}}}}$$"
   ]
  },
  {
   "cell_type": "markdown",
   "metadata": {},
   "source": [
    "solution with $u=sin(\\frac{1}{2}t)$ is"
   ]
  },
  {
   "cell_type": "markdown",
   "metadata": {},
   "source": [
    "$$x \\left( t \\right) =1/2\\,{\\frac {4\\,\\sqrt {{c}^{2}-4\\,km}{c}^{2}{\\it \n",
    "x0}+16\\,\\sqrt {{c}^{2}-4\\,km}{k}^{2}{\\it x0}-8\\,\\sqrt {{c}^{2}-4\\,km}k\n",
    "m{\\it x0}+\\sqrt {{c}^{2}-4\\,km}{m}^{2}{\\it x0}+4\\,{c}^{3}{\\it x0}+8\\,{\n",
    "c}^{2}{\\it dx0}\\,m+16\\,c{k}^{2}{\\it x0}-8\\,ckm{\\it x0}+c{m}^{2}{\\it x0\n",
    "}+32\\,{\\it dx0}\\,{k}^{2}m-16\\,{\\it dx0}\\,k{m}^{2}+2\\,{\\it dx0}\\,{m}^{3\n",
    "}+8\\,\\sqrt {{c}^{2}-4\\,km}c+8\\,{c}^{2}-16\\,km+4\\,{m}^{2}}{ \\left( 4\\,{\n",
    "c}^{2}+16\\,{k}^{2}-8\\,km+{m}^{2} \\right) \\sqrt {{c}^{2}-4\\,km}}{\n",
    "{\\rm e}^{1/2\\,{\\frac { \\left( -c+\\sqrt {{c}^{2}-4\\,km} \\right) t}{m}}}\n",
    "}}-1/2\\,{\\frac {-4\\,\\sqrt {{c}^{2}-4\\,km}{c}^{2}{\\it x0}-16\\,\\sqrt {{c\n",
    "}^{2}-4\\,km}{k}^{2}{\\it x0}+8\\,\\sqrt {{c}^{2}-4\\,km}km{\\it x0}-\\sqrt {\n",
    "{c}^{2}-4\\,km}{m}^{2}{\\it x0}+4\\,{c}^{3}{\\it x0}+8\\,{c}^{2}{\\it dx0}\\,\n",
    "m+16\\,c{k}^{2}{\\it x0}-8\\,ckm{\\it x0}+c{m}^{2}{\\it x0}+32\\,{\\it dx0}\\,\n",
    "{k}^{2}m-16\\,{\\it dx0}\\,k{m}^{2}+2\\,{\\it dx0}\\,{m}^{3}-8\\,\\sqrt {{c}^{\n",
    "2}-4\\,km}c+8\\,{c}^{2}-16\\,km+4\\,{m}^{2}}{ \\left( 4\\,{c}^{2}+16\\,{k}^{2\n",
    "}-8\\,km+{m}^{2} \\right) \\sqrt {{c}^{2}-4\\,km}}{{\\rm e}^{-1/2\\,{\\frac {\n",
    " \\left( c+\\sqrt {{c}^{2}-4\\,km} \\right) t}{m}}}}}+{\\frac { \\left( 16\\,\n",
    "k-4\\,m \\right) \\sin \\left( t/2 \\right) -8\\,\\cos \\left( t/2 \\right) c}{\n",
    "4\\,{c}^{2}+16\\,{k}^{2}-8\\,km+{m}^{2}}}$$"
   ]
  },
  {
   "cell_type": "markdown",
   "metadata": {},
   "source": [
    "$$x \\left( t \\right) ={\\frac {{{\\rm e}^{-t/2}}\\sin \\left( 1/2\\,\\sqrt {11\n",
    "}t \\right) \\sqrt {11} \\left( -36+250\\,{\\it dx0}+125\\,{\\it x0} \\right) \n",
    "}{1375}}+{{\\rm e}^{-t/2}}\\cos \\left( 1/2\\,\\sqrt {11}t \\right)  \\left( \n",
    "{\\it x0}+{\\frac {8}{125}} \\right) +{\\frac {44\\,\\sin \\left( t/2\n",
    " \\right) }{125}}-{\\frac {8\\,\\cos \\left( t/2 \\right) }{125}}$$"
   ]
  },
  {
   "cell_type": "code",
   "execution_count": null,
   "metadata": {
    "collapsed": true
   },
   "outputs": [],
   "source": []
  },
  {
   "cell_type": "code",
   "execution_count": null,
   "metadata": {
    "collapsed": true
   },
   "outputs": [],
   "source": []
  },
  {
   "cell_type": "code",
   "execution_count": 99,
   "metadata": {
    "collapsed": false
   },
   "outputs": [
    {
     "name": "stdout",
     "output_type": "stream",
     "text": [
      "The cython extension is already loaded. To reload it, use:\n",
      "  %reload_ext cython\n"
     ]
    }
   ],
   "source": [
    "%load_ext cython"
   ]
  },
  {
   "cell_type": "code",
   "execution_count": 100,
   "metadata": {
    "collapsed": true
   },
   "outputs": [],
   "source": [
    "%%cython\n",
    "import numpy\n",
    "cimport numpy\n",
    "cpdef SMDfullspec(t,x0,dx0):\n",
    "    t1 = t / 0.2e1;\n",
    "    t2 = numpy.exp(-t1);\n",
    "    t3 = numpy.sqrt(0.11e2);\n",
    "    t5 = t * t3 / 0.2e1;\n",
    "    t6 = numpy.sin(t5);\n",
    "    t14 = numpy.cos(t5);\n",
    "    t18 = numpy.sin(t1);\n",
    "    t20 = numpy.cos(t1);\n",
    "    t22 = (-0.36e2 + 0.250e3 * dx0 + 0.125e3 * x0) * t3 * t2 * t6 / 0.1375e4 + (x0 + 0.8e1 / 0.125e3) * t14 * t2 + 0.44e2 / 0.125e3 * t18 - 0.8e1 / 0.125e3 * t20;\n",
    "    return t22\n"
   ]
  },
  {
   "cell_type": "code",
   "execution_count": 101,
   "metadata": {
    "collapsed": false
   },
   "outputs": [
    {
     "data": {
      "image/png": "[encoded data removed]",
      "text/latex": [
       "$$1.0$$"
      ],
      "text/plain": [
       "1.0"
      ]
     },
     "execution_count": 101,
     "metadata": {},
     "output_type": "execute_result"
    }
   ],
   "source": [
    "SMDfullspec(0., 1., 0.5)"
   ]
  },
  {
   "cell_type": "code",
   "execution_count": 102,
   "metadata": {
    "collapsed": true
   },
   "outputs": [],
   "source": [
    "def pySMDfullspec(t,x0,dx0):\n",
    "    t1 = t / 0.2e1;\n",
    "    t2 = numpy.exp(-t1);\n",
    "    t3 = numpy.sqrt(0.11e2);\n",
    "    t5 = t * t3 / 0.2e1;\n",
    "    t6 = numpy.sin(t5);\n",
    "    t14 = numpy.cos(t5);\n",
    "    t18 = numpy.sin(t1);\n",
    "    t20 = numpy.cos(t1);\n",
    "    t22 = (-0.36e2 + 0.250e3 * dx0 + 0.125e3 * x0) * t3 * t2 * t6 / 0.1375e4 + (x0 + 0.8e1 / 0.125e3) * t14 * t2 + 0.44e2 / 0.125e3 * t18 - 0.8e1 / 0.125e3 * t20;\n",
    "    return t22\n"
   ]
  },
  {
   "cell_type": "code",
   "execution_count": 118,
   "metadata": {
    "collapsed": true
   },
   "outputs": [],
   "source": [
    "yAnalytical = numpy.zeros_like(tv)"
   ]
  },
  {
   "cell_type": "code",
   "execution_count": 119,
   "metadata": {
    "collapsed": false
   },
   "outputs": [],
   "source": [
    "for i in range(len(tv)):\n",
    "    yAnalytical[i] = pySMDfullspec(tv[i],x0[0],x0[1])"
   ]
  },
  {
   "cell_type": "code",
   "execution_count": 120,
   "metadata": {
    "collapsed": false
   },
   "outputs": [
    {
     "data": {
      "text/plain": [
       "[<matplotlib.lines.Line2D at 0x7ff783e32810>]"
      ]
     },
     "execution_count": 120,
     "metadata": {},
     "output_type": "execute_result"
    },
    {
     "data": {
      "image/png": "[encoded data removed]",
      "text/plain": [
       "<matplotlib.figure.Figure at 0x7ff783f9d690>"
      ]
     },
     "metadata": {},
     "output_type": "display_data"
    },
    {
     "data": {
      "image/png": "[encoded data removed]",
      "text/plain": [
       "<matplotlib.figure.Figure at 0x7ff783f9d790>"
      ]
     },
     "metadata": {},
     "output_type": "display_data"
    }
   ],
   "source": [
    "plt.plot(tv,yv[0,:],'.-',tv,yAnalytical,'ro',mfc='red')\n",
    "plt.figure()\n",
    "plt.plot(yAnalytical,'ro',mec='red')"
   ]
  },
  {
   "cell_type": "code",
   "execution_count": null,
   "metadata": {
    "collapsed": true
   },
   "outputs": [],
   "source": []
  },
  {
   "cell_type": "code",
   "execution_count": null,
   "metadata": {
    "collapsed": true
   },
   "outputs": [],
   "source": []
  },
  {
   "cell_type": "code",
   "execution_count": null,
   "metadata": {
    "collapsed": true
   },
   "outputs": [],
   "source": []
  },
  {
   "cell_type": "code",
   "execution_count": 34,
   "metadata": {
    "collapsed": false
   },
   "outputs": [],
   "source": [
    "%%cython\n",
    "cimport numpy\n",
    "import numpy\n",
    "cpdef SMDsinhalft(t,x0,dx0,m,c,k):\n",
    "    t1 = 0.1e1 / m;\n",
    "    t2 = c * c;\n",
    "    t3 = k * m;\n",
    "    t6 = numpy.sqrt(t2 - 0.4e1 * t3);\n",
    "    t11 = numpy.exp(t * (-c + t6) * t1 / 0.2e1);\n",
    "    t13 = k * k;\n",
    "    t16 = m * m;\n",
    "    t18 = 0.1e1 / (0.4e1 * t2 + 0.16e2 * t13 - 0.8e1 * t3 + t16);\n",
    "    t20 = 0.1e1 / t6;\n",
    "    t23 = 0.4e1 * x0 * t2 * t6;\n",
    "    t26 = 0.16e2 * x0 * t13 * t6;\n",
    "    t28 = m * x0;\n",
    "    t30 = 0.8e1 * t28 * k * t6;\n",
    "    t32 = x0 * t16 * t6;\n",
    "    t35 = 0.4e1 * x0 * t2 * c;\n",
    "    t38 = 0.8e1 * m * dx0 * t2;\n",
    "    t41 = 0.16e2 * x0 * t13 * c;\n",
    "    t44 = 0.8e1 * t28 * c * k;\n",
    "    t46 = x0 * t16 * c;\n",
    "    t49 = 0.32e2 * m * t13 * dx0;\n",
    "    t52 = 0.16e2 * t16 * k * dx0;\n",
    "    t55 = 0.2e1 * t16 * m * dx0;\n",
    "    t57 = 0.8e1 * c * t6;\n",
    "    t58 = 0.8e1 * t2;t59 = 0.16e2 * t3;\n",
    "    t60 = 0.4e1 * t16;\n",
    "    t61 = t23 + t26 - t30 + t32 + t35 + t38 + t41 - t44 + t46 + t49 - t52 + t55 + t57 + t58 - t59 + t60;\n",
    "    t69 = numpy.exp(-t * t1 * (c + t6) / 0.2e1);\n",
    "    t70 = -t23 - t26 + t30 - t32 + t35 + t38 + t41 - t44 + t46 + t49 - t52 + t55 - t57 + t58 - t59 + t60;\n",
    "    t78 = t / 0.2e1;\n",
    "    t79 = numpy.sin(t78);\n",
    "    t81 = numpy.cos(t78);\n",
    "    t86 = t61 * t20 * t18 * t11 / 0.2e1 - t18 * t20 * t70 * t69 / 0.2e1 + t18 * (t79 * (0.16e2 * k - 0.4e1 * m) - 0.8e1 * c * t81);\n",
    "    \n",
    "    return t86\n"
   ]
  },
  {
   "cell_type": "code",
   "execution_count": 36,
   "metadata": {
    "collapsed": false
   },
   "outputs": [
    {
     "name": "stderr",
     "output_type": "stream",
     "text": [
      "/home/esteban/anaconda2/lib/python2.7/site-packages/ipykernel/__main__.py:1: RuntimeWarning: invalid value encountered in sqrt\n",
      "  if __name__ == '__main__':\n"
     ]
    },
    {
     "data": {
      "image/png": "[encoded data removed]",
      "text/latex": [
       "$$nan$$"
      ],
      "text/plain": [
       "nan"
      ]
     },
     "execution_count": 36,
     "metadata": {},
     "output_type": "execute_result"
    }
   ],
   "source": [
    "SMDsinhalft(0., 1., 0.5, 1., 1., 3.)"
   ]
  },
  {
   "cell_type": "code",
   "execution_count": null,
   "metadata": {
    "collapsed": true
   },
   "outputs": [],
   "source": []
  },
  {
   "cell_type": "markdown",
   "metadata": {
    "collapsed": true
   },
   "source": [
    "# symbolic solution"
   ]
  },
  {
   "cell_type": "code",
   "execution_count": 11,
   "metadata": {
    "collapsed": true
   },
   "outputs": [],
   "source": [
    "import sympy"
   ]
  },
  {
   "cell_type": "code",
   "execution_count": 12,
   "metadata": {
    "collapsed": true
   },
   "outputs": [],
   "source": [
    "sympy.init_printing(use_latex=True)"
   ]
  },
  {
   "cell_type": "code",
   "execution_count": 13,
   "metadata": {
    "collapsed": true
   },
   "outputs": [],
   "source": [
    "m,c,k,x,t,u = sympy.symbols('m c k x t u')"
   ]
  },
  {
   "cell_type": "markdown",
   "metadata": {},
   "source": [
    "ICs are entered\n",
    "```\n",
    "ics  = {f(point}: value, f(point).diff(point, order).subs(arg, point) :value\n",
    "```"
   ]
  },
  {
   "cell_type": "code",
   "execution_count": 14,
   "metadata": {
    "collapsed": false
   },
   "outputs": [],
   "source": [
    "EQs = sympy.Eq(m*x(t).diff(t,t)+c*x(t).diff(t)+k*x(t),u(t))\n",
    "ICs = {x(0): 1.0,\n",
    "       x(t).diff(t).subs(t,0) : 0.5}       \n",
    "#    {f(x0): x1, f(x).diff(x).subs(x, x2): x3} an"
   ]
  },
  {
   "cell_type": "code",
   "execution_count": 15,
   "metadata": {
    "collapsed": false
   },
   "outputs": [
    {
     "data": {
      "image/png": "[encoded data removed]",
      "text/latex": [
       "$$c \\frac{d}{d t} x{\\left (t \\right )} + k x{\\left (t \\right )} + m \\frac{d^{2}}{d t^{2}}  x{\\left (t \\right )} = u{\\left (t \\right )}$$"
      ],
      "text/plain": [
       "                          2             \n",
       "  d                      d              \n",
       "c⋅──(x(t)) + k⋅x(t) + m⋅───(x(t)) = u(t)\n",
       "  dt                      2             \n",
       "                        dt              "
      ]
     },
     "execution_count": 15,
     "metadata": {},
     "output_type": "execute_result"
    }
   ],
   "source": [
    "EQs"
   ]
  },
  {
   "cell_type": "code",
   "execution_count": 16,
   "metadata": {
    "collapsed": false
   },
   "outputs": [
    {
     "data": {
      "image/png": "[encoded data removed]",
      "text/latex": [
       "$$\\left \\{ x{\\left (0 \\right )} : 1.0, \\quad \\left. \\frac{d}{d t} x{\\left (t \\right )} \\right|_{\\substack{ t=0 }} : 0.5\\right \\}$$"
      ],
      "text/plain": [
       "⎧           ⎛d       ⎞│        ⎫\n",
       "⎨x(0): 1.0, ⎜──(x(t))⎟│   : 0.5⎬\n",
       "⎩           ⎝dt      ⎠│t=0     ⎭"
      ]
     },
     "execution_count": 16,
     "metadata": {},
     "output_type": "execute_result"
    }
   ],
   "source": [
    "ICs"
   ]
  },
  {
   "cell_type": "code",
   "execution_count": 17,
   "metadata": {
    "collapsed": false
   },
   "outputs": [
    {
     "data": {
      "image/png": "[encoded data removed]",
      "text/latex": [
       "$$x{\\left (0.5 \\right )}$$"
      ],
      "text/plain": [
       "x(0.5)"
      ]
     },
     "execution_count": 17,
     "metadata": {},
     "output_type": "execute_result"
    }
   ],
   "source": [
    "x(t).subs({t:0.5})"
   ]
  },
  {
   "cell_type": "code",
   "execution_count": 19,
   "metadata": {
    "collapsed": false
   },
   "outputs": [],
   "source": [
    "sol=sympy.dsolve(EQs,x(t),ics=ICs)"
   ]
  },
  {
   "cell_type": "code",
   "execution_count": 20,
   "metadata": {
    "collapsed": false
   },
   "outputs": [
    {
     "data": {
      "image/png": "[encoded data removed]",
      "text/latex": [
       "$$x{\\left (t \\right )} = C_{1} e^{\\frac{t}{2 m} \\left(- c - \\sqrt{c^{2} - 4 k m}\\right)} + C_{2} e^{\\frac{t}{2 m} \\left(- c + \\sqrt{c^{2} - 4 k m}\\right)} - \\frac{e^{\\frac{t}{2 m} \\left(- c - \\sqrt{c^{2} - 4 k m}\\right)}}{\\sqrt{c^{2} - 4 k m}} \\int u{\\left (t \\right )} e^{\\frac{c t}{2 m}} e^{\\frac{t}{2 m} \\sqrt{c^{2} - 4 k m}}\\, dt + \\frac{e^{\\frac{t}{2 m} \\left(- c + \\sqrt{c^{2} - 4 k m}\\right)}}{\\sqrt{c^{2} - 4 k m}} \\int u{\\left (t \\right )} e^{\\frac{c t}{2 m}} e^{- \\frac{t}{2 m} \\sqrt{c^{2} - 4 k m}}\\, dt$$"
      ],
      "text/plain": [
       "                                                                              \n",
       "                                                                        ⎛     \n",
       "                                                                        ⎜     \n",
       "             ⎛        ____________⎞         ⎛        ____________⎞    t⋅⎝-c - \n",
       "             ⎜       ╱  2         ⎟         ⎜       ╱  2         ⎟    ────────\n",
       "           t⋅⎝-c - ╲╱  c  - 4⋅k⋅m ⎠       t⋅⎝-c + ╲╱  c  - 4⋅k⋅m ⎠            \n",
       "           ────────────────────────       ────────────────────────   ℯ        \n",
       "                     2⋅m                            2⋅m                       \n",
       "x(t) = C₁⋅ℯ                         + C₂⋅ℯ                         - ─────────\n",
       "                                                                              \n",
       "                                                                              \n",
       "                                                                              \n",
       "\n",
       "                 ⌠                                                            \n",
       "   ____________⎞ ⎮                 ____________         ⎛        ____________⎞\n",
       "  ╱  2         ⎟ ⎮                ╱  2                  ⎜       ╱  2         ⎟\n",
       "╲╱  c  - 4⋅k⋅m ⎠ ⎮       c⋅t  t⋅╲╱  c  - 4⋅k⋅m        t⋅⎝-c + ╲╱  c  - 4⋅k⋅m ⎠\n",
       "──────────────── ⎮       ───  ─────────────────       ────────────────────────\n",
       "  2⋅m            ⎮       2⋅m         2⋅m                        2⋅m           \n",
       "                ⋅⎮ u(t)⋅ℯ   ⋅ℯ                  dt   ℯ                        \n",
       "                 ⌡                                                            \n",
       "────────────────────────────────────────────────── + ─────────────────────────\n",
       "                ____________                                                  \n",
       "               ╱  2                                                           \n",
       "             ╲╱  c  - 4⋅k⋅m                                                 ╲╱\n",
       "\n",
       " ⌠                                  \n",
       " ⎮                  ____________    \n",
       " ⎮                 ╱  2             \n",
       " ⎮       c⋅t  -t⋅╲╱  c  - 4⋅k⋅m     \n",
       " ⎮       ───  ───────────────────   \n",
       " ⎮       2⋅m          2⋅m           \n",
       "⋅⎮ u(t)⋅ℯ   ⋅ℯ                    dt\n",
       " ⌡                                  \n",
       "────────────────────────────────────\n",
       " ____________                       \n",
       "╱  2                                \n",
       "  c  - 4⋅k⋅m                        "
      ]
     },
     "execution_count": 20,
     "metadata": {},
     "output_type": "execute_result"
    }
   ],
   "source": [
    "sol"
   ]
  },
  {
   "cell_type": "code",
   "execution_count": 21,
   "metadata": {
    "collapsed": false
   },
   "outputs": [],
   "source": [
    "sol0 = sol.subs({c:1,m:1,k:3,u(t):sympy.sin(0.2*t)})"
   ]
  },
  {
   "cell_type": "code",
   "execution_count": 22,
   "metadata": {
    "collapsed": false
   },
   "outputs": [
    {
     "data": {
      "image/png": "[encoded data removed]",
      "text/latex": [
       "$$x{\\left (t \\right )} = C_{1} e^{\\frac{t}{2} \\left(-1 - \\sqrt{11} i\\right)} + C_{2} e^{\\frac{t}{2} \\left(-1 + \\sqrt{11} i\\right)} + \\frac{\\sqrt{11} i}{11} e^{\\frac{t}{2} \\left(-1 - \\sqrt{11} i\\right)} \\int e^{\\frac{t}{2}} e^{\\frac{i t}{2} \\sqrt{11}} \\sin{\\left (0.2 t \\right )}\\, dt - \\frac{\\sqrt{11} i}{11} e^{\\frac{t}{2} \\left(-1 + \\sqrt{11} i\\right)} \\int e^{\\frac{t}{2}} e^{- \\frac{i t}{2} \\sqrt{11}} \\sin{\\left (0.2 t \\right )}\\, dt$$"
      ],
      "text/plain": [
       "                                                                       ⌠      \n",
       "                                                        t⋅(-1 - √11⋅ⅈ) ⎮  t  √\n",
       "                                                        ────────────── ⎮  ─  ─\n",
       "           t⋅(-1 - √11⋅ⅈ)       t⋅(-1 + √11⋅ⅈ)                2        ⎮  2   \n",
       "           ──────────────       ──────────────   √11⋅ⅈ⋅ℯ              ⋅⎮ ℯ ⋅ℯ \n",
       "                 2                    2                                ⌡      \n",
       "x(t) = C₁⋅ℯ               + C₂⋅ℯ               + ─────────────────────────────\n",
       "                                                                         11   \n",
       "\n",
       "                                             ⌠                            \n",
       "11⋅ⅈ⋅t                        t⋅(-1 + √11⋅ⅈ) ⎮  t  -√11⋅ⅈ⋅t               \n",
       "──────                        ────────────── ⎮  ─  ─────────              \n",
       "  2                                 2        ⎮  2      2                  \n",
       "      ⋅sin(0.2⋅t) dt   √11⋅ⅈ⋅ℯ              ⋅⎮ ℯ ⋅ℯ         ⋅sin(0.2⋅t) dt\n",
       "                                             ⌡                            \n",
       "──────────────────── - ───────────────────────────────────────────────────\n",
       "                                                11                        "
      ]
     },
     "execution_count": 22,
     "metadata": {},
     "output_type": "execute_result"
    }
   ],
   "source": [
    "sol0"
   ]
  },
  {
   "cell_type": "code",
   "execution_count": 23,
   "metadata": {
    "collapsed": true
   },
   "outputs": [],
   "source": [
    "sol0 = sympy.dsolve(EQs.subs({u(t):sympy.sin(0.2*t)}))"
   ]
  },
  {
   "cell_type": "code",
   "execution_count": 24,
   "metadata": {
    "collapsed": false
   },
   "outputs": [
    {
     "data": {
      "image/png": "[encoded data removed]",
      "text/latex": [
       "$$x{\\left (t \\right )} = C_{1} e^{\\frac{t}{2 m} \\left(- c - \\sqrt{c^{2} - 4 k m}\\right)} + C_{2} e^{\\frac{t}{2 m} \\left(- c + \\sqrt{c^{2} - 4 k m}\\right)} - \\frac{125.0 c \\cos{\\left (0.2 t \\right )}}{25.0 c^{2} + \\left(25.0 k - m\\right)^{2}} + \\frac{625.0 k \\sin{\\left (0.2 t \\right )}}{25.0 c^{2} + \\left(25.0 k - m\\right)^{2}} - \\frac{25.0 m \\sin{\\left (0.2 t \\right )}}{25.0 c^{2} + \\left(25.0 k - m\\right)^{2}}$$"
      ],
      "text/plain": [
       "             ⎛        ____________⎞         ⎛        ____________⎞            \n",
       "             ⎜       ╱  2         ⎟         ⎜       ╱  2         ⎟            \n",
       "           t⋅⎝-c - ╲╱  c  - 4⋅k⋅m ⎠       t⋅⎝-c + ╲╱  c  - 4⋅k⋅m ⎠            \n",
       "           ────────────────────────       ────────────────────────            \n",
       "                     2⋅m                            2⋅m                 125.0⋅\n",
       "x(t) = C₁⋅ℯ                         + C₂⋅ℯ                         - ─────────\n",
       "                                                                           2  \n",
       "                                                                     25.0⋅c  +\n",
       "\n",
       "                                                                  \n",
       "                                                                  \n",
       "                                                                  \n",
       "                                                                  \n",
       "c⋅cos(0.2⋅t)        625.0⋅k⋅sin(0.2⋅t)        25.0⋅m⋅sin(0.2⋅t)   \n",
       "────────────── + ─────────────────────── - ───────────────────────\n",
       "             2         2               2         2               2\n",
       " (25.0⋅k - m)    25.0⋅c  + (25.0⋅k - m)    25.0⋅c  + (25.0⋅k - m) "
      ]
     },
     "execution_count": 24,
     "metadata": {},
     "output_type": "execute_result"
    }
   ],
   "source": [
    "sol0"
   ]
  },
  {
   "cell_type": "code",
   "execution_count": 25,
   "metadata": {
    "collapsed": false
   },
   "outputs": [
    {
     "data": {
      "image/png": "[encoded data removed]",
      "text/latex": [
       "$$x{\\left (t \\right )} = C_{1} e^{\\frac{t}{2} \\left(-1 - \\sqrt{11} i\\right)} + C_{2} e^{\\frac{t}{2} \\left(-1 + \\sqrt{11} i\\right)} + 0.336302490456281 \\sin{\\left (0.2 t \\right )} - 0.022723141247046 \\cos{\\left (0.2 t \\right )}$$"
      ],
      "text/plain": [
       "           t⋅(-1 - √11⋅ⅈ)       t⋅(-1 + √11⋅ⅈ)                                \n",
       "           ──────────────       ──────────────                                \n",
       "                 2                    2                                       \n",
       "x(t) = C₁⋅ℯ               + C₂⋅ℯ               + 0.336302490456281⋅sin(0.2⋅t) \n",
       "\n",
       "                              \n",
       "                              \n",
       "                              \n",
       "- 0.022723141247046⋅cos(0.2⋅t)"
      ]
     },
     "execution_count": 25,
     "metadata": {},
     "output_type": "execute_result"
    }
   ],
   "source": [
    "sol0.subs({c:1,m:1,k:3})"
   ]
  },
  {
   "cell_type": "code",
   "execution_count": null,
   "metadata": {
    "collapsed": false
   },
   "outputs": [],
   "source": [
    "sympy.re(sol0.rhs)"
   ]
  },
  {
   "cell_type": "code",
   "execution_count": null,
   "metadata": {
    "collapsed": false
   },
   "outputs": [],
   "source": [
    "xv = numpy.empty([nx,nt], numpy.float64)"
   ]
  },
  {
   "cell_type": "code",
   "execution_count": null,
   "metadata": {
    "collapsed": false
   },
   "outputs": [],
   "source": [
    "xv.shape"
   ]
  },
  {
   "cell_type": "code",
   "execution_count": null,
   "metadata": {
    "collapsed": true
   },
   "outputs": [],
   "source": [
    "xv = numpy.zeros((nx,nt), numpy.float64)"
   ]
  },
  {
   "cell_type": "code",
   "execution_count": null,
   "metadata": {
    "collapsed": false
   },
   "outputs": [],
   "source": [
    "xv.shape"
   ]
  },
  {
   "cell_type": "code",
   "execution_count": null,
   "metadata": {
    "collapsed": true
   },
   "outputs": [],
   "source": [
    "xv[:,0] = [1,2]"
   ]
  },
  {
   "cell_type": "code",
   "execution_count": null,
   "metadata": {
    "collapsed": false
   },
   "outputs": [],
   "source": [
    "xv"
   ]
  },
  {
   "cell_type": "code",
   "execution_count": null,
   "metadata": {
    "collapsed": true
   },
   "outputs": [],
   "source": []
  }
 ],
 "metadata": {
  "kernelspec": {
   "display_name": "Python [Root]",
   "language": "python",
   "name": "Python [Root]"
  },
  "language_info": {
   "codemirror_mode": {
    "name": "ipython",
    "version": 2
   },
   "file_extension": ".py",
   "mimetype": "text/x-python",
   "name": "python",
   "nbconvert_exporter": "python",
   "pygments_lexer": "ipython2",
   "version": "2.7.12"
  }
 },
 "nbformat": 4,
 "nbformat_minor": 0
}
