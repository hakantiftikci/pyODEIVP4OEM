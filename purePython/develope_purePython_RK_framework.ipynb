{
 "cells": [
  {
   "cell_type": "markdown",
   "metadata": {},
   "source": [
    "Example systems\n",
    "\n",
    "$$ m\\ddot{x}+c\\dot{x}+kx=u\\left(t\\right) $$"
   ]
  },
  {
   "cell_type": "code",
   "execution_count": 1,
   "metadata": {
    "collapsed": true
   },
   "outputs": [],
   "source": [
    "import numpy\n",
    "import matplotlib.pyplot as plt"
   ]
  },
  {
   "cell_type": "code",
   "execution_count": 2,
   "metadata": {
    "collapsed": true
   },
   "outputs": [],
   "source": [
    "%matplotlib inline"
   ]
  },
  {
   "cell_type": "code",
   "execution_count": 45,
   "metadata": {
    "collapsed": false
   },
   "outputs": [],
   "source": [
    "# %load pyRK4.py\n",
    "\"\"\"\n",
    "Created on Mon Mar 17 17:20:35 2014\n",
    "\n",
    "@author: tai\n",
    "- set the convention that output argument is always the last for fu,fdx,fy\n",
    " - fu,fy syntax changed\n",
    "\"\"\"\n",
    "\n",
    "try:\n",
    "    del RK4\n",
    "except:\n",
    "    pass\n",
    "\n",
    "def stateDerivative(t,x,u,fu,fdx,px,pu,dx):   \n",
    "    fu(t,x,pu,u)\n",
    "    fdx(t,x,u,px,dx)\n",
    "\n",
    "\n",
    "def RK4(fdx,fu,fy,x0,tv,xv,uv,yv,px,pu,py,nx,nu,ny,nt):\n",
    "    \"\"\"\n",
    "    fdx     :      state derivative function\n",
    "                   fdx(t,x,u,px,dx)\n",
    "    fu      :      input function\n",
    "    fy      :      output function\n",
    "    x0      :      initial state vector\n",
    "    tv      :      time vectors to obtain solution at\n",
    "    xv      :      storage for solution states\n",
    "    yv      :      storage for solution outputs\n",
    "    px      :      extra argumens(parameters) for state derivative fdx\n",
    "    pu      :      extra argumens(parameters) for output function fy\n",
    "    py      :      extran arguments(parameters) for output function fy    \n",
    "    \"\"\"\n",
    "\n",
    "    a = numpy.array([ \n",
    "            [0.0, 0.0, 0.0, 0.0] ,  \n",
    "            [1.0/2.0,0.0,0.0,0.0] , \n",
    "            [0.0,1.0/2.0,0.0,0.0] , \n",
    "            [0.0,0.0,1.0,0.0] ], numpy.float64)\n",
    "    b = numpy.array([ 1.0/6.0, 1.0/3.0, 1.0/3.0, 1.0/6.0 ], numpy.float64)\n",
    "    c = numpy.array([ 0.0, 1.0/2.0, 1.0/2.0, 1.0 ], numpy.float64)\n",
    "    \n",
    "    print \"------------\"\n",
    "    print \"RK matrices\"\n",
    "    print a\n",
    "    print b\n",
    "    print c\n",
    "    print \"------------\"\n",
    "    \n",
    "    \n",
    "    x = numpy.zeros_like(x0)\n",
    "    u = numpy.empty((nu,), x0.dtype)\n",
    "    y = numpy.empty((ny,), x0.dtype)\n",
    "    k = numpy.zeros((nx,4), x0.dtype)\n",
    "    \n",
    "    print \"u.size\", u.shape\n",
    "    print \"x.size\", x.shape\n",
    "    print \"y.size\", y.shape\n",
    "    \n",
    "    \"\"\"\n",
    "    if False:\n",
    "        xv = numpy.zeros((nx,nt), x0.dtype)\n",
    "        uv = numpy.zeros((nu,nt), x0.dtype)\n",
    "        yv = numpy.zeros((ny,nt), x0.dtype)\n",
    "    else:\n",
    "        xv.resize((nx,nt))\n",
    "        uv.resize((nu,nt))\n",
    "        yv.resize((ny,nt))\n",
    "    \"\"\"\n",
    "\n",
    "    t = tv[0]\n",
    "    print \"x, x0 ids before = \",id(x),id(x0)    \n",
    "    x = x0*1.0  # \n",
    "    dx = x0*0.0\n",
    "    print \"x, x0 ids after  = \",id(x),id(x0)\n",
    "\n",
    "    fu(t,x,pu,u)\n",
    "    fdx(t,x,u,px,dx)\n",
    "    fy(t,x,dx,u,px,pu,py,y)\n",
    "\n",
    "    print \"xv.shape\",xv.shape\n",
    "    xv[0,:] = x\n",
    "    uv[0,:] = u\n",
    "    yv[0,:] = y\n",
    "\n",
    "    for m in range(nt-1):\n",
    "        dt = tv[m+1]-tv[m]\n",
    "\n",
    "        deltax = 0    # ! better to use vector of size nx??\n",
    "        for i in range(4):\n",
    "            xstage = x*1.0\n",
    "            for j in range(i):\n",
    "                xstage = xstage+dt*a[i,j]*k[:,j]\n",
    "            # def stateDerivative(t,x,u,fu,fdx,px,pu,dx):   \n",
    "            if False:\n",
    "                stateDerivative(t+c[i]*dt, xstage, u, fu, fdx, px, pu, k[:,i])\n",
    "            else:\n",
    "                stateDerivative(t+c[i]*dt, xstage, u, fu, fdx, px, pu, dx)\n",
    "                k[:,i] = dx\n",
    "            deltax = deltax + dt*b[i]*k[:,i]\n",
    "   \n",
    "        x = x + deltax\n",
    "        t = t + dt\n",
    "        \n",
    "        #print \"u.size\", u.shape\n",
    "        #print \"x.size\", x.shape\n",
    "        #print \"y.size\", y.shape        \n",
    "        fu(t,x,pu,u)\n",
    "        fdx(t,x,u,px,dx)\n",
    "        fy(t,x,dx,u,px,pu,py,y)\n",
    "\n",
    "        xv[1+m,:] = x\n",
    "        uv[1+m,:] = u\n",
    "        yv[1+m,:] = y"
   ]
  },
  {
   "cell_type": "code",
   "execution_count": 4,
   "metadata": {
    "collapsed": false
   },
   "outputs": [
    {
     "name": "stdout",
     "output_type": "stream",
     "text": [
      "[] [0] [0, 1]\n",
      "___________________\n",
      "___________________\n",
      "0\n",
      "___________________\n",
      "0\n",
      "1\n",
      "___________________\n"
     ]
    }
   ],
   "source": [
    "print range(0),range(1),range(2)\n",
    "print '_'*19\n",
    "for i in range(0):\n",
    "    print i\n",
    "print '_'*19\n",
    "for i in range(1):\n",
    "    print i\n",
    "print '_'*19\n",
    "for i in range(2):\n",
    "    print i\n",
    "print '_'*19"
   ]
  },
  {
   "cell_type": "code",
   "execution_count": 25,
   "metadata": {
    "collapsed": true
   },
   "outputs": [],
   "source": [
    "def fdx1(t,x,u,px,dx):\n",
    "    m = px[0]\n",
    "    c = px[1]\n",
    "    k = px[2]\n",
    "    dx[0] = x[1]\n",
    "    dx[1] = (u[0]-c*x[1]-k*x[0])/m\n",
    "    \n",
    "    \n",
    "def fu1(t,x,pu,u):\n",
    "    freq = pu[0]\n",
    "    #print \"pu   = \", pu\n",
    "    #print \"y    = \", t\n",
    "    #print \"freq =\", freq\n",
    "    u[0] = numpy.sin(freq*t)\n",
    "    \n",
    "def fy1(t,x,dx,u,px,pu,py,y):\n",
    "    y[0] = x[0]   # position\n",
    "    y[1] = x[1]   # velocity\n",
    "    y[2] = dx[1]  # acceleration\n",
    "    y[3] = 0.5*px[0]*x[1]**2  # kinetic energy\n",
    "    "
   ]
  },
  {
   "cell_type": "markdown",
   "metadata": {},
   "source": [
    "# check column assignment works or not "
   ]
  },
  {
   "cell_type": "code",
   "execution_count": 6,
   "metadata": {
    "collapsed": true
   },
   "outputs": [],
   "source": [
    "k = numpy.zeros((2,4), numpy.float64)\n",
    "dx = numpy.zeros((2,), numpy.float64)"
   ]
  },
  {
   "cell_type": "code",
   "execution_count": 7,
   "metadata": {
    "collapsed": false
   },
   "outputs": [],
   "source": [
    "fdx1(0., [0.1, 0.2], [1.], [1., 2., 3.], dx)\n",
    "fdx1(0., [0.1, 0.2], [1.], [1., 2., 3.], k[:,0])"
   ]
  },
  {
   "cell_type": "code",
   "execution_count": 8,
   "metadata": {
    "collapsed": false
   },
   "outputs": [
    {
     "name": "stdout",
     "output_type": "stream",
     "text": [
      "[ 0.2  0.3]\n",
      "[[ 0.2  0.   0.   0. ]\n",
      " [ 0.3  0.   0.   0. ]]\n"
     ]
    }
   ],
   "source": [
    "print dx\n",
    "print k"
   ]
  },
  {
   "cell_type": "markdown",
   "metadata": {},
   "source": [
    "# test integrator on SMD"
   ]
  },
  {
   "cell_type": "code",
   "execution_count": 46,
   "metadata": {
    "collapsed": false
   },
   "outputs": [
    {
     "name": "stdout",
     "output_type": "stream",
     "text": [
      "------------\n",
      "RK matrices\n",
      "[[ 0.   0.   0.   0. ]\n",
      " [ 0.5  0.   0.   0. ]\n",
      " [ 0.   0.5  0.   0. ]\n",
      " [ 0.   0.   1.   0. ]]\n",
      "[ 0.16666667  0.33333333  0.33333333  0.16666667]\n",
      "[ 0.   0.5  0.5  1. ]\n",
      "------------\n",
      "u.size (1,)\n",
      "x.size (2,)\n",
      "y.size (4,)\n",
      "x, x0 ids before =  140285832074624 140285833202944\n",
      "x, x0 ids after  =  140285826709024 140285833202944\n",
      "xv.shape (200, 2)\n"
     ]
    }
   ],
   "source": [
    "tv = numpy.arange(0,20,0.1, numpy.float64)\n",
    "nt = len(tv)\n",
    "nx = 2\n",
    "nu = 1\n",
    "ny = 4\n",
    "px = numpy.array([1., 1., 3.], numpy.float64)\n",
    "pu = numpy.array([0.5], numpy.float64)\n",
    "py = numpy.array([], numpy.float64)\n",
    "x0 = numpy.array([1., 0.5], numpy.float64)\n",
    "xv = numpy.empty([nt,nx], numpy.float64)\n",
    "yv = numpy.empty([nt,ny], numpy.float64)\n",
    "uv = numpy.empty([nt,nu], numpy.float64)\n",
    "RK4(fdx1,fu1,fy1,x0,tv,xv,uv,yv,px,pu,py,nx,nu,ny,nt)"
   ]
  },
  {
   "cell_type": "code",
   "execution_count": 47,
   "metadata": {
    "collapsed": false
   },
   "outputs": [
    {
     "data": {
      "image/png": "[encoded data removed]",
      "text/plain": [
       "<matplotlib.figure.Figure at 0x7f96d6d032d0>"
      ]
     },
     "metadata": {},
     "output_type": "display_data"
    }
   ],
   "source": [
    "plt.plot(tv,yv[:,0],'.-',tv,yv[:,1],'or',mec='r');"
   ]
  },
  {
   "cell_type": "markdown",
   "metadata": {},
   "source": [
    "# check call on u\n",
    "by following check, error is found to be:\n",
    "    - in defining input function call,  assignment is coded as `u=...` instead of `u[0]=...`\n",
    "    - even though has no use, following check is kept to remember the bug (since it caused too much debugging time)"
   ]
  },
  {
   "cell_type": "code",
   "execution_count": 40,
   "metadata": {
    "collapsed": false
   },
   "outputs": [
    {
     "name": "stdout",
     "output_type": "stream",
     "text": [
      "[ 0.47942554] [ 0.5]\n"
     ]
    }
   ],
   "source": [
    "u = numpy.zeros((1,),numpy.float64)\n",
    "fu1(1., x0, pu, u )\n",
    "print u, pu\n"
   ]
  },
  {
   "cell_type": "markdown",
   "metadata": {},
   "source": [
    "# Maple Solution to SMD"
   ]
  },
  {
   "cell_type": "markdown",
   "metadata": {},
   "source": [
    "generic solution obtained in MAPLE is"
   ]
  },
  {
   "cell_type": "markdown",
   "metadata": {},
   "source": [
    "$$ x \\left( t \\right) =1/2\\,{\\frac {\\sqrt {{c}^{2}-4\\,km}{\\it x0}+c{\\it \n",
    "x0}+2\\,{\\it dx0}\\,m}{\\sqrt {{c}^{2}-4\\,km}}{{\\rm e}^{1/2\\,{\\frac {\n",
    " \\left( -c+\\sqrt {{c}^{2}-4\\,km} \\right) t}{m}}}}}-1/2\\,{\\frac {-\n",
    "\\sqrt {{c}^{2}-4\\,km}{\\it x0}+c{\\it x0}+2\\,{\\it dx0}\\,m}{\\sqrt {{c}^{2\n",
    "}-4\\,km}}{{\\rm e}^{-1/2\\,{\\frac { \\left( c+\\sqrt {{c}^{2}-4\\,km}\n",
    " \\right) t}{m}}}}}+{\\frac {1}{\\sqrt {{c}^{2}-4\\,km}} \\left( \\int_{0}^{\n",
    "t}\\!u \\left( {\\it \\_z1} \\right) {{\\rm e}^{-1/2\\,{\\frac { \\left( -c+\n",
    "\\sqrt {{c}^{2}-4\\,km} \\right) {\\it \\_z1}}{m}}}}\\,{\\rm d}{\\it \\_z1}{\n",
    "{\\rm e}^{{\\frac {t\\sqrt {{c}^{2}-4\\,km}}{m}}}}-\\int_{0}^{t}\\!u \\left( \n",
    "{\\it \\_z1} \\right) {{\\rm e}^{1/2\\,{\\frac { \\left( c+\\sqrt {{c}^{2}-4\\,\n",
    "km} \\right) {\\it \\_z1}}{m}}}}\\,{\\rm d}{\\it \\_z1} \\right) {{\\rm e}^{-1/\n",
    "2\\,{\\frac { \\left( c+\\sqrt {{c}^{2}-4\\,km} \\right) t}{m}}}}}$$"
   ]
  },
  {
   "cell_type": "markdown",
   "metadata": {},
   "source": [
    "solution with $u=sin(\\frac{1}{2}t)$ is"
   ]
  },
  {
   "cell_type": "markdown",
   "metadata": {},
   "source": [
    "$$x \\left( t \\right) =1/2\\,{\\frac {4\\,\\sqrt {{c}^{2}-4\\,km}{c}^{2}{\\it \n",
    "x0}+16\\,\\sqrt {{c}^{2}-4\\,km}{k}^{2}{\\it x0}-8\\,\\sqrt {{c}^{2}-4\\,km}k\n",
    "m{\\it x0}+\\sqrt {{c}^{2}-4\\,km}{m}^{2}{\\it x0}+4\\,{c}^{3}{\\it x0}+8\\,{\n",
    "c}^{2}{\\it dx0}\\,m+16\\,c{k}^{2}{\\it x0}-8\\,ckm{\\it x0}+c{m}^{2}{\\it x0\n",
    "}+32\\,{\\it dx0}\\,{k}^{2}m-16\\,{\\it dx0}\\,k{m}^{2}+2\\,{\\it dx0}\\,{m}^{3\n",
    "}+8\\,\\sqrt {{c}^{2}-4\\,km}c+8\\,{c}^{2}-16\\,km+4\\,{m}^{2}}{ \\left( 4\\,{\n",
    "c}^{2}+16\\,{k}^{2}-8\\,km+{m}^{2} \\right) \\sqrt {{c}^{2}-4\\,km}}{\n",
    "{\\rm e}^{1/2\\,{\\frac { \\left( -c+\\sqrt {{c}^{2}-4\\,km} \\right) t}{m}}}\n",
    "}}-1/2\\,{\\frac {-4\\,\\sqrt {{c}^{2}-4\\,km}{c}^{2}{\\it x0}-16\\,\\sqrt {{c\n",
    "}^{2}-4\\,km}{k}^{2}{\\it x0}+8\\,\\sqrt {{c}^{2}-4\\,km}km{\\it x0}-\\sqrt {\n",
    "{c}^{2}-4\\,km}{m}^{2}{\\it x0}+4\\,{c}^{3}{\\it x0}+8\\,{c}^{2}{\\it dx0}\\,\n",
    "m+16\\,c{k}^{2}{\\it x0}-8\\,ckm{\\it x0}+c{m}^{2}{\\it x0}+32\\,{\\it dx0}\\,\n",
    "{k}^{2}m-16\\,{\\it dx0}\\,k{m}^{2}+2\\,{\\it dx0}\\,{m}^{3}-8\\,\\sqrt {{c}^{\n",
    "2}-4\\,km}c+8\\,{c}^{2}-16\\,km+4\\,{m}^{2}}{ \\left( 4\\,{c}^{2}+16\\,{k}^{2\n",
    "}-8\\,km+{m}^{2} \\right) \\sqrt {{c}^{2}-4\\,km}}{{\\rm e}^{-1/2\\,{\\frac {\n",
    " \\left( c+\\sqrt {{c}^{2}-4\\,km} \\right) t}{m}}}}}+{\\frac { \\left( 16\\,\n",
    "k-4\\,m \\right) \\sin \\left( t/2 \\right) -8\\,\\cos \\left( t/2 \\right) c}{\n",
    "4\\,{c}^{2}+16\\,{k}^{2}-8\\,km+{m}^{2}}}$$"
   ]
  },
  {
   "cell_type": "markdown",
   "metadata": {},
   "source": [
    "$$x \\left( t \\right) ={\\frac {{{\\rm e}^{-t/2}}\\sin \\left( 1/2\\,\\sqrt {11\n",
    "}t \\right) \\sqrt {11} \\left( -36+250\\,{\\it dx0}+125\\,{\\it x0} \\right) \n",
    "}{1375}}+{{\\rm e}^{-t/2}}\\cos \\left( 1/2\\,\\sqrt {11}t \\right)  \\left( \n",
    "{\\it x0}+{\\frac {8}{125}} \\right) +{\\frac {44\\,\\sin \\left( t/2\n",
    " \\right) }{125}}-{\\frac {8\\,\\cos \\left( t/2 \\right) }{125}}$$"
   ]
  },
  {
   "cell_type": "code",
   "execution_count": 12,
   "metadata": {
    "collapsed": false
   },
   "outputs": [],
   "source": [
    "%load_ext cython"
   ]
  },
  {
   "cell_type": "code",
   "execution_count": 13,
   "metadata": {
    "collapsed": true
   },
   "outputs": [],
   "source": [
    "%%cython\n",
    "import numpy\n",
    "cimport numpy\n",
    "cpdef SMDfullspec(t,x0,dx0):\n",
    "    t1 = t / 0.2e1;\n",
    "    t2 = numpy.exp(-t1);\n",
    "    t3 = numpy.sqrt(0.11e2);\n",
    "    t5 = t * t3 / 0.2e1;\n",
    "    t6 = numpy.sin(t5);\n",
    "    t14 = numpy.cos(t5);\n",
    "    t18 = numpy.sin(t1);\n",
    "    t20 = numpy.cos(t1);\n",
    "    t22 = (-0.36e2 + 0.250e3 * dx0 + 0.125e3 * x0) * t3 * t2 * t6 / 0.1375e4 + (x0 + 0.8e1 / 0.125e3) * t14 * t2 + 0.44e2 / 0.125e3 * t18 - 0.8e1 / 0.125e3 * t20;\n",
    "    return t22\n"
   ]
  },
  {
   "cell_type": "code",
   "execution_count": 14,
   "metadata": {
    "collapsed": false
   },
   "outputs": [
    {
     "data": {
      "text/plain": [
       "1.0"
      ]
     },
     "execution_count": 14,
     "metadata": {},
     "output_type": "execute_result"
    }
   ],
   "source": [
    "SMDfullspec(0., 1., 0.5)"
   ]
  },
  {
   "cell_type": "code",
   "execution_count": 41,
   "metadata": {
    "collapsed": true
   },
   "outputs": [],
   "source": [
    "def pySMDfullspec(t,x0,dx0): \n",
    "    t1 = t / 0.2e1;\n",
    "    t2 = numpy.exp(-t1);\n",
    "    t3 = numpy.sqrt(0.11e2);\n",
    "    t5 = t * t3 / 0.2e1;\n",
    "    t6 = numpy.sin(t5);\n",
    "    t14 = numpy.cos(t5);\n",
    "    t18 = numpy.cos(t1);\n",
    "    t20 = numpy.sin(t1);\n",
    "    t22 = (-0.36e2 + 0.250e3 * dx0 + 0.125e3 * x0) * t3 * t6 * t2 / 0.1375e4 + (x0 + 0.8e1 / 0.125e3) * t14 * t2 - 0.8e1 / 0.125e3 * t18 + 0.44e2 / 0.125e3 * t20;\n",
    "    return t22"
   ]
  },
  {
   "cell_type": "code",
   "execution_count": 48,
   "metadata": {
    "collapsed": false
   },
   "outputs": [],
   "source": [
    "yAnalytical = numpy.zeros_like(tv)\n",
    "for i in range(len(tv)):\n",
    "    yAnalytical[i] = pySMDfullspec(tv[i],x0[0],x0[1])"
   ]
  },
  {
   "cell_type": "code",
   "execution_count": 51,
   "metadata": {
    "collapsed": false
   },
   "outputs": [
    {
     "data": {
      "image/png": "[encoded data removed]",
      "text/plain": [
       "<matplotlib.figure.Figure at 0x7f96d6d5a910>"
      ]
     },
     "metadata": {},
     "output_type": "display_data"
    },
    {
     "data": {
      "image/png": "[encoded data removed]",
      "text/plain": [
       "<matplotlib.figure.Figure at 0x7f96d6d5a890>"
      ]
     },
     "metadata": {},
     "output_type": "display_data"
    },
    {
     "data": {
      "image/png": "[encoded data removed]",
      "text/plain": [
       "<matplotlib.figure.Figure at 0x7f96d6ed60d0>"
      ]
     },
     "metadata": {},
     "output_type": "display_data"
    }
   ],
   "source": [
    "plt.plot(tv,yv[:,0],'b.-',tv,yAnalytical,'ro',mec='red');\n",
    "plt.figure()\n",
    "plt.plot(tv,yv[:,0]-yAnalytical,'ro',mec='red');\n",
    "plt.figure()\n",
    "plt.semilogy(tv,numpy.abs(yv[:,0]-yAnalytical),'ro',mec='red');"
   ]
  },
  {
   "cell_type": "code",
   "execution_count": 53,
   "metadata": {
    "collapsed": false
   },
   "outputs": [
    {
     "data": {
      "image/png": "[encoded data removed]",
      "text/plain": [
       "<matplotlib.figure.Figure at 0x7f96d69bc810>"
      ]
     },
     "metadata": {},
     "output_type": "display_data"
    }
   ],
   "source": [
    "plt.plot(uv[:,0]);"
   ]
  },
  {
   "cell_type": "code",
   "execution_count": 54,
   "metadata": {
    "collapsed": false
   },
   "outputs": [
    {
     "data": {
      "image/png": "[encoded data removed]",
      "text/plain": [
       "<matplotlib.figure.Figure at 0x7f96d67d8110>"
      ]
     },
     "metadata": {},
     "output_type": "display_data"
    }
   ],
   "source": [
    "plt.plot(yv[:,3]);"
   ]
  },
  {
   "cell_type": "code",
   "execution_count": null,
   "metadata": {
    "collapsed": true
   },
   "outputs": [],
   "source": []
  },
  {
   "cell_type": "code",
   "execution_count": 19,
   "metadata": {
    "collapsed": false
   },
   "outputs": [],
   "source": [
    "%%cython\n",
    "cimport numpy\n",
    "import numpy\n",
    "cpdef SMDsinhalft(t,x0,dx0,m,c,k):\n",
    "    t1 = 0.1e1 / m;\n",
    "    t2 = c * c;\n",
    "    t3 = k * m;\n",
    "    t6 = numpy.sqrt(t2 - 0.4e1 * t3);\n",
    "    t11 = numpy.exp(t * (-c + t6) * t1 / 0.2e1);\n",
    "    t13 = k * k;\n",
    "    t16 = m * m;\n",
    "    t18 = 0.1e1 / (0.4e1 * t2 + 0.16e2 * t13 - 0.8e1 * t3 + t16);\n",
    "    t20 = 0.1e1 / t6;\n",
    "    t23 = 0.4e1 * x0 * t2 * t6;\n",
    "    t26 = 0.16e2 * x0 * t13 * t6;\n",
    "    t28 = m * x0;\n",
    "    t30 = 0.8e1 * t28 * k * t6;\n",
    "    t32 = x0 * t16 * t6;\n",
    "    t35 = 0.4e1 * x0 * t2 * c;\n",
    "    t38 = 0.8e1 * m * dx0 * t2;\n",
    "    t41 = 0.16e2 * x0 * t13 * c;\n",
    "    t44 = 0.8e1 * t28 * c * k;\n",
    "    t46 = x0 * t16 * c;\n",
    "    t49 = 0.32e2 * m * t13 * dx0;\n",
    "    t52 = 0.16e2 * t16 * k * dx0;\n",
    "    t55 = 0.2e1 * t16 * m * dx0;\n",
    "    t57 = 0.8e1 * c * t6;\n",
    "    t58 = 0.8e1 * t2;t59 = 0.16e2 * t3;\n",
    "    t60 = 0.4e1 * t16;\n",
    "    t61 = t23 + t26 - t30 + t32 + t35 + t38 + t41 - t44 + t46 + t49 - t52 + t55 + t57 + t58 - t59 + t60;\n",
    "    t69 = numpy.exp(-t * t1 * (c + t6) / 0.2e1);\n",
    "    t70 = -t23 - t26 + t30 - t32 + t35 + t38 + t41 - t44 + t46 + t49 - t52 + t55 - t57 + t58 - t59 + t60;\n",
    "    t78 = t / 0.2e1;\n",
    "    t79 = numpy.sin(t78);\n",
    "    t81 = numpy.cos(t78);\n",
    "    t86 = t61 * t20 * t18 * t11 / 0.2e1 - t18 * t20 * t70 * t69 / 0.2e1 + t18 * (t79 * (0.16e2 * k - 0.4e1 * m) - 0.8e1 * c * t81);\n",
    "    \n",
    "    return t86\n"
   ]
  },
  {
   "cell_type": "code",
   "execution_count": 20,
   "metadata": {
    "collapsed": false
   },
   "outputs": [
    {
     "name": "stderr",
     "output_type": "stream",
     "text": [
      "/home/esteban/anaconda2/lib/python2.7/site-packages/ipykernel/__main__.py:1: RuntimeWarning: invalid value encountered in sqrt\n",
      "  if __name__ == '__main__':\n"
     ]
    },
    {
     "data": {
      "text/plain": [
       "nan"
      ]
     },
     "execution_count": 20,
     "metadata": {},
     "output_type": "execute_result"
    }
   ],
   "source": [
    "SMDsinhalft(0., 1., 0.5, 1., 1., 3.)"
   ]
  },
  {
   "cell_type": "markdown",
   "metadata": {
    "collapsed": true
   },
   "source": [
    "# Output Error Method Development "
   ]
  },
  {
   "cell_type": "code",
   "execution_count": 59,
   "metadata": {
    "collapsed": false
   },
   "outputs": [
    {
     "data": {
      "text/plain": [
       "array([ 1. ,  1. ,  3. ,  0.5])"
      ]
     },
     "execution_count": 59,
     "metadata": {},
     "output_type": "execute_result"
    }
   ],
   "source": [
    "numpy.concatenate([px,pu,py])"
   ]
  },
  {
   "cell_type": "code",
   "execution_count": 56,
   "metadata": {
    "collapsed": false
   },
   "outputs": [
    {
     "ename": "IndentationError",
     "evalue": "unexpected indent (<ipython-input-56-a22f0592bf1a>, line 62)",
     "output_type": "error",
     "traceback": [
      "\u001b[1;36m  File \u001b[1;32m\"<ipython-input-56-a22f0592bf1a>\"\u001b[1;36m, line \u001b[1;32m62\u001b[0m\n\u001b[1;33m    self.p = numpy.stack(\u001b[0m\n\u001b[1;37m    ^\u001b[0m\n\u001b[1;31mIndentationError\u001b[0m\u001b[1;31m:\u001b[0m unexpected indent\n"
     ]
    }
   ],
   "source": [
    "class System:\n",
    "    def __init__(self,fdx,fu,fy,nx,nu,ny,px,pu,py):\n",
    "        self.fdx = fdx\n",
    "        self.fu = fu\n",
    "        self.fy = fy\n",
    "        \n",
    "        self.nx = nx\n",
    "        self.nu = nu\n",
    "        self.ny = ny\n",
    "        \n",
    "        self.px = px\n",
    "        self.pu = pu\n",
    "        self.py = py\n",
    "        \n",
    "        self.npx = len(px)\n",
    "        self.npu = len(pu)\n",
    "        self.npy = len(py)\n",
    "        \n",
    "        self.pxnames=[]\n",
    "        for i in range(self.npx):\n",
    "            self.pxnames.append( 'p_x%d' % (i,))\n",
    "            \n",
    "        self.punames=[]\n",
    "        for i in range(self.npu):\n",
    "            self.punames.append( 'p_u%d' % (i,))\n",
    "            \n",
    "        self.pynames=[]\n",
    "        for i in range(self.npy):\n",
    "            self.pynames.append( 'p_y%d' % (i,))\n",
    "            \n",
    "        self.xsim = numpy.empty()\n",
    "        self.usim = numpy.empty()\n",
    "        self.ysim = numpy.empty()\n",
    "                \n",
    "        \n",
    "    def simulate(self,tv,x0):\n",
    "        nt = len(tv)\n",
    "        \n",
    "        self.xsim = numpy.empty([nt,nx], numpy.float64)\n",
    "        self.ysim = numpy.empty([nt,ny], numpy.float64)\n",
    "        self.usim = numpy.empty([nt,nu], numpy.float64)\n",
    "        \n",
    "        RK4(self.fdx, self.fu, self.fy,\n",
    "            x0, tv, \n",
    "            self.xsim, self.usim, self.ysim,\n",
    "            self.px, self.pu, self.py,\n",
    "            self.nx, self.nu, self.ny, len(tv))\n",
    "        \n",
    "class Experiment:\n",
    "    def __init__(self, z, model, x0, px, pu, py, x0fix, pxfix, pufix, pyfix):\n",
    "        self.z = z       \n",
    "        \n",
    "        self.x0 = x0\n",
    "        self.px = px\n",
    "        self.pu = pu\n",
    "        self.py = py\n",
    "        \n",
    "        self.npx = len(px)\n",
    "        self.npu = len(pu)\n",
    "        self.npy = len(py)\n",
    "        self.np = self.npx+self.npy+self.npu\n",
    "        numpy.concatenate([px,pu,py])\n",
    "\n",
    "        self.x0fix = x0fix\n",
    "        self.pxfix = pxfix\n",
    "        self.pufix = pufix\n",
    "        self.pyfix = pyfix\n",
    "        \n",
    "        \n",
    "        \n",
    "        \n",
    "class Experiments:\n",
    "    def __init__(self):\n",
    "        self.Experiments = []\n",
    "        \n",
    "    def addExperiment(self,e):\n",
    "        self.Experiments.append(e)\n",
    "        \n",
    "        "
   ]
  },
  {
   "cell_type": "code",
   "execution_count": null,
   "metadata": {
    "collapsed": true
   },
   "outputs": [],
   "source": []
  },
  {
   "cell_type": "code",
   "execution_count": null,
   "metadata": {
    "collapsed": true
   },
   "outputs": [],
   "source": []
  },
  {
   "cell_type": "code",
   "execution_count": null,
   "metadata": {
    "collapsed": true
   },
   "outputs": [],
   "source": []
  },
  {
   "cell_type": "code",
   "execution_count": null,
   "metadata": {
    "collapsed": true
   },
   "outputs": [],
   "source": []
  },
  {
   "cell_type": "markdown",
   "metadata": {
    "collapsed": true
   },
   "source": [
    "# symbolic solution"
   ]
  },
  {
   "cell_type": "code",
   "execution_count": 21,
   "metadata": {
    "collapsed": true
   },
   "outputs": [],
   "source": [
    "import sympy"
   ]
  },
  {
   "cell_type": "code",
   "execution_count": 22,
   "metadata": {
    "collapsed": true
   },
   "outputs": [],
   "source": [
    "sympy.init_printing(use_latex=True)"
   ]
  },
  {
   "cell_type": "code",
   "execution_count": 23,
   "metadata": {
    "collapsed": true
   },
   "outputs": [],
   "source": [
    "m,c,k,x,t,u = sympy.symbols('m c k x t u')"
   ]
  },
  {
   "cell_type": "markdown",
   "metadata": {},
   "source": [
    "ICs are entered\n",
    "```\n",
    "ics  = {f(point}: value, f(point).diff(point, order).subs(arg, point) :value\n",
    "```"
   ]
  },
  {
   "cell_type": "code",
   "execution_count": 24,
   "metadata": {
    "collapsed": false
   },
   "outputs": [],
   "source": [
    "EQs = sympy.Eq(m*x(t).diff(t,t)+c*x(t).diff(t)+k*x(t),u(t))\n",
    "ICs = {x(0): 1.0,\n",
    "       x(t).diff(t).subs(t,0) : 0.5}       \n",
    "#    {f(x0): x1, f(x).diff(x).subs(x, x2): x3} an"
   ]
  },
  {
   "cell_type": "code",
   "execution_count": 25,
   "metadata": {
    "collapsed": false
   },
   "outputs": [
    {
     "data": {
      "image/png": "[encoded data removed]",
      "text/latex": [
       "$$c \\frac{d}{d t} x{\\left (t \\right )} + k x{\\left (t \\right )} + m \\frac{d^{2}}{d t^{2}}  x{\\left (t \\right )} = u{\\left (t \\right )}$$"
      ],
      "text/plain": [
       "                          2             \n",
       "  d                      d              \n",
       "c⋅──(x(t)) + k⋅x(t) + m⋅───(x(t)) = u(t)\n",
       "  dt                      2             \n",
       "                        dt              "
      ]
     },
     "execution_count": 25,
     "metadata": {},
     "output_type": "execute_result"
    }
   ],
   "source": [
    "EQs"
   ]
  },
  {
   "cell_type": "code",
   "execution_count": 26,
   "metadata": {
    "collapsed": false
   },
   "outputs": [
    {
     "data": {
      "image/png": "[encoded data removed]",
      "text/latex": [
       "$$\\left \\{ x{\\left (0 \\right )} : 1.0, \\quad \\left. \\frac{d}{d t} x{\\left (t \\right )} \\right|_{\\substack{ t=0 }} : 0.5\\right \\}$$"
      ],
      "text/plain": [
       "⎧           ⎛d       ⎞│        ⎫\n",
       "⎨x(0): 1.0, ⎜──(x(t))⎟│   : 0.5⎬\n",
       "⎩           ⎝dt      ⎠│t=0     ⎭"
      ]
     },
     "execution_count": 26,
     "metadata": {},
     "output_type": "execute_result"
    }
   ],
   "source": [
    "ICs"
   ]
  },
  {
   "cell_type": "code",
   "execution_count": 27,
   "metadata": {
    "collapsed": false
   },
   "outputs": [
    {
     "data": {
      "image/png": "[encoded data removed]",
      "text/latex": [
       "$$x{\\left (0.5 \\right )}$$"
      ],
      "text/plain": [
       "x(0.5)"
      ]
     },
     "execution_count": 27,
     "metadata": {},
     "output_type": "execute_result"
    }
   ],
   "source": [
    "x(t).subs({t:0.5})"
   ]
  },
  {
   "cell_type": "code",
   "execution_count": 28,
   "metadata": {
    "collapsed": false
   },
   "outputs": [],
   "source": [
    "sol=sympy.dsolve(EQs,x(t),ics=ICs)"
   ]
  },
  {
   "cell_type": "code",
   "execution_count": 29,
   "metadata": {
    "collapsed": false
   },
   "outputs": [
    {
     "data": {
      "image/png": "[encoded data removed]",
      "text/latex": [
       "$$x{\\left (t \\right )} = C_{1} e^{\\frac{t}{2 m} \\left(- c - \\sqrt{c^{2} - 4 k m}\\right)} + C_{2} e^{\\frac{t}{2 m} \\left(- c + \\sqrt{c^{2} - 4 k m}\\right)} - \\frac{e^{\\frac{t}{2 m} \\left(- c - \\sqrt{c^{2} - 4 k m}\\right)}}{\\sqrt{c^{2} - 4 k m}} \\int u{\\left (t \\right )} e^{\\frac{c t}{2 m}} e^{\\frac{t}{2 m} \\sqrt{c^{2} - 4 k m}}\\, dt + \\frac{e^{\\frac{t}{2 m} \\left(- c + \\sqrt{c^{2} - 4 k m}\\right)}}{\\sqrt{c^{2} - 4 k m}} \\int u{\\left (t \\right )} e^{\\frac{c t}{2 m}} e^{- \\frac{t}{2 m} \\sqrt{c^{2} - 4 k m}}\\, dt$$"
      ],
      "text/plain": [
       "                                                                              \n",
       "                                                                        ⎛     \n",
       "                                                                        ⎜     \n",
       "             ⎛        ____________⎞         ⎛        ____________⎞    t⋅⎝-c - \n",
       "             ⎜       ╱  2         ⎟         ⎜       ╱  2         ⎟    ────────\n",
       "           t⋅⎝-c - ╲╱  c  - 4⋅k⋅m ⎠       t⋅⎝-c + ╲╱  c  - 4⋅k⋅m ⎠            \n",
       "           ────────────────────────       ────────────────────────   ℯ        \n",
       "                     2⋅m                            2⋅m                       \n",
       "x(t) = C₁⋅ℯ                         + C₂⋅ℯ                         - ─────────\n",
       "                                                                              \n",
       "                                                                              \n",
       "                                                                              \n",
       "\n",
       "                 ⌠                                                            \n",
       "   ____________⎞ ⎮                 ____________         ⎛        ____________⎞\n",
       "  ╱  2         ⎟ ⎮                ╱  2                  ⎜       ╱  2         ⎟\n",
       "╲╱  c  - 4⋅k⋅m ⎠ ⎮       c⋅t  t⋅╲╱  c  - 4⋅k⋅m        t⋅⎝-c + ╲╱  c  - 4⋅k⋅m ⎠\n",
       "──────────────── ⎮       ───  ─────────────────       ────────────────────────\n",
       "  2⋅m            ⎮       2⋅m         2⋅m                        2⋅m           \n",
       "                ⋅⎮ u(t)⋅ℯ   ⋅ℯ                  dt   ℯ                        \n",
       "                 ⌡                                                            \n",
       "────────────────────────────────────────────────── + ─────────────────────────\n",
       "                ____________                                                  \n",
       "               ╱  2                                                           \n",
       "             ╲╱  c  - 4⋅k⋅m                                                 ╲╱\n",
       "\n",
       " ⌠                                  \n",
       " ⎮                  ____________    \n",
       " ⎮                 ╱  2             \n",
       " ⎮       c⋅t  -t⋅╲╱  c  - 4⋅k⋅m     \n",
       " ⎮       ───  ───────────────────   \n",
       " ⎮       2⋅m          2⋅m           \n",
       "⋅⎮ u(t)⋅ℯ   ⋅ℯ                    dt\n",
       " ⌡                                  \n",
       "────────────────────────────────────\n",
       " ____________                       \n",
       "╱  2                                \n",
       "  c  - 4⋅k⋅m                        "
      ]
     },
     "execution_count": 29,
     "metadata": {},
     "output_type": "execute_result"
    }
   ],
   "source": [
    "sol"
   ]
  },
  {
   "cell_type": "code",
   "execution_count": 30,
   "metadata": {
    "collapsed": false
   },
   "outputs": [],
   "source": [
    "sol0 = sol.subs({c:1,m:1,k:3,u(t):sympy.sin(0.2*t)})"
   ]
  },
  {
   "cell_type": "code",
   "execution_count": 31,
   "metadata": {
    "collapsed": false
   },
   "outputs": [
    {
     "data": {
      "image/png": "[encoded data removed]",
      "text/latex": [
       "$$x{\\left (t \\right )} = C_{1} e^{\\frac{t}{2} \\left(-1 - \\sqrt{11} i\\right)} + C_{2} e^{\\frac{t}{2} \\left(-1 + \\sqrt{11} i\\right)} + \\frac{\\sqrt{11} i}{11} e^{\\frac{t}{2} \\left(-1 - \\sqrt{11} i\\right)} \\int e^{\\frac{t}{2}} e^{\\frac{i t}{2} \\sqrt{11}} \\sin{\\left (0.2 t \\right )}\\, dt - \\frac{\\sqrt{11} i}{11} e^{\\frac{t}{2} \\left(-1 + \\sqrt{11} i\\right)} \\int e^{\\frac{t}{2}} e^{- \\frac{i t}{2} \\sqrt{11}} \\sin{\\left (0.2 t \\right )}\\, dt$$"
      ],
      "text/plain": [
       "                                                                       ⌠      \n",
       "                                                        t⋅(-1 - √11⋅ⅈ) ⎮  t  √\n",
       "                                                        ────────────── ⎮  ─  ─\n",
       "           t⋅(-1 - √11⋅ⅈ)       t⋅(-1 + √11⋅ⅈ)                2        ⎮  2   \n",
       "           ──────────────       ──────────────   √11⋅ⅈ⋅ℯ              ⋅⎮ ℯ ⋅ℯ \n",
       "                 2                    2                                ⌡      \n",
       "x(t) = C₁⋅ℯ               + C₂⋅ℯ               + ─────────────────────────────\n",
       "                                                                         11   \n",
       "\n",
       "                                             ⌠                            \n",
       "11⋅ⅈ⋅t                        t⋅(-1 + √11⋅ⅈ) ⎮  t  -√11⋅ⅈ⋅t               \n",
       "──────                        ────────────── ⎮  ─  ─────────              \n",
       "  2                                 2        ⎮  2      2                  \n",
       "      ⋅sin(0.2⋅t) dt   √11⋅ⅈ⋅ℯ              ⋅⎮ ℯ ⋅ℯ         ⋅sin(0.2⋅t) dt\n",
       "                                             ⌡                            \n",
       "──────────────────── - ───────────────────────────────────────────────────\n",
       "                                                11                        "
      ]
     },
     "execution_count": 31,
     "metadata": {},
     "output_type": "execute_result"
    }
   ],
   "source": [
    "sol0"
   ]
  },
  {
   "cell_type": "code",
   "execution_count": 32,
   "metadata": {
    "collapsed": true
   },
   "outputs": [],
   "source": [
    "sol0 = sympy.dsolve(EQs.subs({u(t):sympy.sin(0.2*t)}))"
   ]
  },
  {
   "cell_type": "code",
   "execution_count": 33,
   "metadata": {
    "collapsed": false
   },
   "outputs": [
    {
     "data": {
      "image/png": "[encoded data removed]",
      "text/latex": [
       "$$x{\\left (t \\right )} = C_{1} e^{\\frac{t}{2 m} \\left(- c - \\sqrt{c^{2} - 4 k m}\\right)} + C_{2} e^{\\frac{t}{2 m} \\left(- c + \\sqrt{c^{2} - 4 k m}\\right)} - \\frac{125.0 c \\cos{\\left (0.2 t \\right )}}{25.0 c^{2} + \\left(25.0 k - m\\right)^{2}} + \\frac{625.0 k \\sin{\\left (0.2 t \\right )}}{25.0 c^{2} + \\left(25.0 k - m\\right)^{2}} - \\frac{25.0 m \\sin{\\left (0.2 t \\right )}}{25.0 c^{2} + \\left(25.0 k - m\\right)^{2}}$$"
      ],
      "text/plain": [
       "             ⎛        ____________⎞         ⎛        ____________⎞            \n",
       "             ⎜       ╱  2         ⎟         ⎜       ╱  2         ⎟            \n",
       "           t⋅⎝-c - ╲╱  c  - 4⋅k⋅m ⎠       t⋅⎝-c + ╲╱  c  - 4⋅k⋅m ⎠            \n",
       "           ────────────────────────       ────────────────────────            \n",
       "                     2⋅m                            2⋅m                 125.0⋅\n",
       "x(t) = C₁⋅ℯ                         + C₂⋅ℯ                         - ─────────\n",
       "                                                                           2  \n",
       "                                                                     25.0⋅c  +\n",
       "\n",
       "                                                                  \n",
       "                                                                  \n",
       "                                                                  \n",
       "                                                                  \n",
       "c⋅cos(0.2⋅t)        625.0⋅k⋅sin(0.2⋅t)        25.0⋅m⋅sin(0.2⋅t)   \n",
       "────────────── + ─────────────────────── - ───────────────────────\n",
       "             2         2               2         2               2\n",
       " (25.0⋅k - m)    25.0⋅c  + (25.0⋅k - m)    25.0⋅c  + (25.0⋅k - m) "
      ]
     },
     "execution_count": 33,
     "metadata": {},
     "output_type": "execute_result"
    }
   ],
   "source": [
    "sol0"
   ]
  },
  {
   "cell_type": "code",
   "execution_count": 34,
   "metadata": {
    "collapsed": false
   },
   "outputs": [
    {
     "data": {
      "image/png": "[encoded data removed]",
      "text/latex": [
       "$$x{\\left (t \\right )} = C_{1} e^{\\frac{t}{2} \\left(-1 - \\sqrt{11} i\\right)} + C_{2} e^{\\frac{t}{2} \\left(-1 + \\sqrt{11} i\\right)} + 0.336302490456281 \\sin{\\left (0.2 t \\right )} - 0.022723141247046 \\cos{\\left (0.2 t \\right )}$$"
      ],
      "text/plain": [
       "           t⋅(-1 - √11⋅ⅈ)       t⋅(-1 + √11⋅ⅈ)                                \n",
       "           ──────────────       ──────────────                                \n",
       "                 2                    2                                       \n",
       "x(t) = C₁⋅ℯ               + C₂⋅ℯ               + 0.336302490456281⋅sin(0.2⋅t) \n",
       "\n",
       "                              \n",
       "                              \n",
       "                              \n",
       "- 0.022723141247046⋅cos(0.2⋅t)"
      ]
     },
     "execution_count": 34,
     "metadata": {},
     "output_type": "execute_result"
    }
   ],
   "source": [
    "sol0.subs({c:1,m:1,k:3})"
   ]
  },
  {
   "cell_type": "code",
   "execution_count": 35,
   "metadata": {
    "collapsed": false
   },
   "outputs": [
    {
     "data": {
      "image/png": "[encoded data removed]",
      "text/latex": [
       "$$\\Re{\\left(C_{1} e^{\\frac{t}{2 m} \\left(- c - \\sqrt{c^{2} - 4 k m}\\right)}\\right)} + \\Re{\\left(C_{2} e^{\\frac{t}{2 m} \\left(- c + \\sqrt{c^{2} - 4 k m}\\right)}\\right)} - 125.0 \\Re{\\left(\\frac{c \\cos{\\left (0.2 t \\right )}}{25.0 c^{2} + \\left(25.0 k - m\\right)^{2}}\\right)} + 625.0 \\Re{\\left(\\frac{k \\sin{\\left (0.2 t \\right )}}{25.0 c^{2} + \\left(25.0 k - m\\right)^{2}}\\right)} - 25.0 \\Re{\\left(\\frac{m \\sin{\\left (0.2 t \\right )}}{25.0 c^{2} + \\left(25.0 k - m\\right)^{2}}\\right)}$$"
      ],
      "text/plain": [
       "  ⎛      ⎛        ____________⎞⎞     ⎛      ⎛        ____________⎞⎞           \n",
       "  ⎜      ⎜       ╱  2         ⎟⎟     ⎜      ⎜       ╱  2         ⎟⎟           \n",
       "  ⎜    t⋅⎝-c - ╲╱  c  - 4⋅k⋅m ⎠⎟     ⎜    t⋅⎝-c + ╲╱  c  - 4⋅k⋅m ⎠⎟           \n",
       "  ⎜    ────────────────────────⎟     ⎜    ────────────────────────⎟           \n",
       "  ⎜              2⋅m           ⎟     ⎜              2⋅m           ⎟           \n",
       "re⎝C₁⋅ℯ                        ⎠ + re⎝C₂⋅ℯ                        ⎠ - 125.0⋅re\n",
       "                                                                              \n",
       "                                                                              \n",
       "\n",
       "                                                                              \n",
       "                                                                              \n",
       "                                                                              \n",
       "                                                                              \n",
       "⎛      c⋅cos(0.2⋅t)     ⎞           ⎛      k⋅sin(0.2⋅t)     ⎞          ⎛      \n",
       "⎜───────────────────────⎟ + 625.0⋅re⎜───────────────────────⎟ - 25.0⋅re⎜──────\n",
       "⎜      2               2⎟           ⎜      2               2⎟          ⎜      \n",
       "⎝25.0⋅c  + (25.0⋅k - m) ⎠           ⎝25.0⋅c  + (25.0⋅k - m) ⎠          ⎝25.0⋅c\n",
       "\n",
       "                  \n",
       "                  \n",
       "                  \n",
       "                  \n",
       "m⋅sin(0.2⋅t)     ⎞\n",
       "─────────────────⎟\n",
       "2               2⎟\n",
       "  + (25.0⋅k - m) ⎠"
      ]
     },
     "execution_count": 35,
     "metadata": {},
     "output_type": "execute_result"
    }
   ],
   "source": [
    "sympy.re(sol0.rhs)"
   ]
  },
  {
   "cell_type": "code",
   "execution_count": 36,
   "metadata": {
    "collapsed": false
   },
   "outputs": [],
   "source": [
    "xv = numpy.empty([nx,nt], numpy.float64)"
   ]
  },
  {
   "cell_type": "code",
   "execution_count": 37,
   "metadata": {
    "collapsed": false
   },
   "outputs": [
    {
     "data": {
      "image/png": "[encoded data removed]",
      "text/latex": [
       "$$\\left ( 2, \\quad 1000\\right )$$"
      ],
      "text/plain": [
       "(2, 1000)"
      ]
     },
     "execution_count": 37,
     "metadata": {},
     "output_type": "execute_result"
    }
   ],
   "source": [
    "xv.shape"
   ]
  },
  {
   "cell_type": "code",
   "execution_count": 38,
   "metadata": {
    "collapsed": true
   },
   "outputs": [],
   "source": [
    "xv = numpy.zeros((nx,nt), numpy.float64)"
   ]
  },
  {
   "cell_type": "code",
   "execution_count": 39,
   "metadata": {
    "collapsed": false
   },
   "outputs": [
    {
     "data": {
      "image/png": "[encoded data removed]",
      "text/latex": [
       "$$\\left ( 2, \\quad 1000\\right )$$"
      ],
      "text/plain": [
       "(2, 1000)"
      ]
     },
     "execution_count": 39,
     "metadata": {},
     "output_type": "execute_result"
    }
   ],
   "source": [
    "xv.shape"
   ]
  },
  {
   "cell_type": "code",
   "execution_count": 40,
   "metadata": {
    "collapsed": true
   },
   "outputs": [],
   "source": [
    "xv[:,0] = [1,2]"
   ]
  },
  {
   "cell_type": "code",
   "execution_count": 41,
   "metadata": {
    "collapsed": false
   },
   "outputs": [
    {
     "data": {
      "text/plain": [
       "array([[ 1.,  0.,  0., ...,  0.,  0.,  0.],\n",
       "       [ 2.,  0.,  0., ...,  0.,  0.,  0.]])"
      ]
     },
     "execution_count": 41,
     "metadata": {},
     "output_type": "execute_result"
    }
   ],
   "source": [
    "xv"
   ]
  }
 ],
 "metadata": {
  "kernelspec": {
   "display_name": "Python [Root]",
   "language": "python",
   "name": "Python [Root]"
  },
  "language_info": {
   "codemirror_mode": {
    "name": "ipython",
    "version": 2
   },
   "file_extension": ".py",
   "mimetype": "text/x-python",
   "name": "python",
   "nbconvert_exporter": "python",
   "pygments_lexer": "ipython2",
   "version": "2.7.12"
  }
 },
 "nbformat": 4,
 "nbformat_minor": 0
}
