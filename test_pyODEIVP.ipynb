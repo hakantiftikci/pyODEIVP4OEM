{
 "metadata": {
  "name": "",
  "signature": "sha256:134a072b0326310987d92a11f909b501843c2ff48ed091681f98c6ac53bc5d21"
 },
 "nbformat": 3,
 "nbformat_minor": 0,
 "worksheets": [
  {
   "cells": [
    {
     "cell_type": "code",
     "collapsed": false,
     "input": [
      "import numpy as np\n",
      "import pylab as pl"
     ],
     "language": "python",
     "metadata": {},
     "outputs": [],
     "prompt_number": 1
    },
    {
     "cell_type": "code",
     "collapsed": false,
     "input": [
      "%pylab inline"
     ],
     "language": "python",
     "metadata": {},
     "outputs": [
      {
       "output_type": "stream",
       "stream": "stdout",
       "text": [
        "Populating the interactive namespace from numpy and matplotlib\n"
       ]
      }
     ],
     "prompt_number": 2
    },
    {
     "cell_type": "code",
     "collapsed": false,
     "input": [
      "#ls"
     ],
     "language": "python",
     "metadata": {},
     "outputs": [],
     "prompt_number": 3
    },
    {
     "cell_type": "code",
     "collapsed": false,
     "input": [
      "import pyODEIVP as ode"
     ],
     "language": "python",
     "metadata": {},
     "outputs": [],
     "prompt_number": 4
    },
    {
     "cell_type": "code",
     "collapsed": false,
     "input": [
      "print ode.__doc__"
     ],
     "language": "python",
     "metadata": {},
     "outputs": [
      {
       "output_type": "stream",
       "stream": "stdout",
       "text": [
        "This module 'pyODEIVP' is auto-generated with f2py (version:2).\n",
        "Functions:\n",
        "  dx = fdxsample1(t,x,u,px,nx=len(x),nu=len(u),npx=len(px))\n",
        "  dx = fdxsample2(t,x,u,px,nx=len(x),nu=len(u),npx=len(px))\n",
        "  dx = statederivative(t,x,fu,fdx,px,pu,nu,nx=len(x),npx=len(px),npu=len(pu),fu_extra_args=(),fdx_extra_args=())\n",
        "  xv,yv = eulerintegration(fdx,fu,fy,x0,tv,px,pu,py,nu,ny,nx=len(x0),npx=len(px),npu=len(pu),npy=len(py),nt=len(tv),fdx_extra_args=(),fu_extra_args=(),fy_extra_args=())\n",
        "  xv,yv = rk4(fdx,fu,fy,x0,tv,px,pu,py,nu,ny,nx=len(x0),npx=len(px),npu=len(pu),npy=len(py),nt=len(tv),fdx_extra_args=(),fu_extra_args=(),fy_extra_args=())\n",
        ".\n"
       ]
      }
     ],
     "prompt_number": 5
    },
    {
     "cell_type": "code",
     "collapsed": false,
     "input": [
      "print ode.eulerintegration.__doc__"
     ],
     "language": "python",
     "metadata": {},
     "outputs": [
      {
       "output_type": "stream",
       "stream": "stdout",
       "text": [
        "xv,yv = eulerintegration(fdx,fu,fy,x0,tv,px,pu,py,nu,ny,[nx,npx,npu,npy,nt,fdx_extra_args,fu_extra_args,fy_extra_args])\n",
        "\n",
        "Wrapper for ``eulerintegration``.\n",
        "\n",
        "Parameters\n",
        "----------\n",
        "fdx : call-back function => derivative\n",
        "fu : call-back function => input\n",
        "fy : call-back function => output\n",
        "x0 : input rank-1 array('f') with bounds (nx)\n",
        "tv : input rank-1 array('f') with bounds (nt)\n",
        "px : input rank-1 array('f') with bounds (npx)\n",
        "pu : input rank-1 array('f') with bounds (npu)\n",
        "py : input rank-1 array('f') with bounds (npy)\n",
        "nu : input int\n",
        "ny : input int\n",
        "\n",
        "Other Parameters\n",
        "----------------\n",
        "fdx_extra_args : input tuple, optional\n",
        "    Default: ()\n",
        "fu_extra_args : input tuple, optional\n",
        "    Default: ()\n",
        "fy_extra_args : input tuple, optional\n",
        "    Default: ()\n",
        "nx : input int, optional\n",
        "    Default: len(x0)\n",
        "npx : input int, optional\n",
        "    Default: len(px)\n",
        "npu : input int, optional\n",
        "    Default: len(pu)\n",
        "npy : input int, optional\n",
        "    Default: len(py)\n",
        "nt : input int, optional\n",
        "    Default: len(tv)\n",
        "\n",
        "Returns\n",
        "-------\n",
        "xv : rank-2 array('f') with bounds (nt,nx)\n",
        "yv : rank-2 array('f') with bounds (nt,ny)\n",
        "\n",
        "Notes\n",
        "-----\n",
        "Call-back functions::\n",
        "\n",
        "  def derivative(t,x,u,px,[nx,nu,npx]): return dx\n",
        "  Required arguments:\n",
        "    t : input float\n",
        "    x : input rank-1 array('f') with bounds (nx)\n",
        "    u : input rank-1 array('f') with bounds (nu)\n",
        "    px : input rank-1 array('f') with bounds (npx)\n",
        "  Optional arguments:\n",
        "    nx : input int, optional\n",
        "    Default: len(x)\n",
        "    nu : input int, optional\n",
        "    Default: len(u)\n",
        "    npx : input int, optional\n",
        "    Default: len(px)\n",
        "  Return objects:\n",
        "    dx : rank-1 array('f') with bounds (nx)\n",
        "  def input(t,x,pu,[nx,nu,npu]): return u\n",
        "  Required arguments:\n",
        "    t : input float\n",
        "    x : input rank-1 array('f') with bounds (nx)\n",
        "    pu : input rank-1 array('f') with bounds (npu)\n",
        "  Optional arguments:\n",
        "    nx : input int, optional\n",
        "    Default: len(x)\n",
        "    nu : input int, optional\n",
        "    Default: len(u)\n",
        "    npu : input int, optional\n",
        "    Default: len(pu)\n",
        "  Return objects:\n",
        "    u : rank-1 array('f') with bounds (nu)\n",
        "  def output(t,x,dx,u,px,pu,py,[nx,nu,ny,npx,npu,npy]): return y\n",
        "  Required arguments:\n",
        "    t : input float\n",
        "    x : input rank-1 array('f') with bounds (nx)\n",
        "    dx : input rank-1 array('f') with bounds (nx)\n",
        "    u : input rank-1 array('f') with bounds (nu)\n",
        "    px : input rank-1 array('f') with bounds (npx)\n",
        "    pu : input rank-1 array('f') with bounds (npu)\n",
        "    py : input rank-1 array('f') with bounds (npy)\n",
        "  Optional arguments:\n",
        "    nx : input int, optional\n",
        "    Default: len(x)\n",
        "    nu : input int, optional\n",
        "    Default: len(u)\n",
        "    ny : input int, optional\n",
        "    Default: len(y)\n",
        "    npx : input int, optional\n",
        "    Default: len(px)\n",
        "    npu : input int, optional\n",
        "    Default: len(pu)\n",
        "    npy : input int, optional\n",
        "    Default: len(py)\n",
        "  Return objects:\n",
        "    y : rank-1 array('f') with bounds (ny)\n",
        "\n"
       ]
      }
     ],
     "prompt_number": 6
    },
    {
     "cell_type": "code",
     "collapsed": false,
     "input": [
      "print ode.fdxsample1.__doc__"
     ],
     "language": "python",
     "metadata": {},
     "outputs": [
      {
       "output_type": "stream",
       "stream": "stdout",
       "text": [
        "dx = fdxsample1(t,x,u,px,[nx,nu,npx])\n",
        "\n",
        "Wrapper for ``fdxsample1``.\n",
        "\n",
        "Parameters\n",
        "----------\n",
        "t : input float\n",
        "x : input rank-1 array('f') with bounds (nx)\n",
        "u : input rank-1 array('f') with bounds (nu)\n",
        "px : input rank-1 array('f') with bounds (npx)\n",
        "\n",
        "Other Parameters\n",
        "----------------\n",
        "nx : input int, optional\n",
        "    Default: len(x)\n",
        "nu : input int, optional\n",
        "    Default: len(u)\n",
        "npx : input int, optional\n",
        "    Default: len(px)\n",
        "\n",
        "Returns\n",
        "-------\n",
        "dx : rank-1 array('f') with bounds (nx)\n",
        "\n"
       ]
      }
     ],
     "prompt_number": 7
    },
    {
     "cell_type": "heading",
     "level": 1,
     "metadata": {},
     "source": [
      "Cython Warmup"
     ]
    },
    {
     "cell_type": "code",
     "collapsed": false,
     "input": [
      "%load_ext cythonmagic"
     ],
     "language": "python",
     "metadata": {},
     "outputs": [],
     "prompt_number": 8
    },
    {
     "cell_type": "code",
     "collapsed": false,
     "input": [
      "%%cython\n",
      "cpdef newsqr(x):\n",
      "    return x*x"
     ],
     "language": "python",
     "metadata": {},
     "outputs": [],
     "prompt_number": 9
    },
    {
     "cell_type": "code",
     "collapsed": false,
     "input": [
      "newsqr(3)"
     ],
     "language": "python",
     "metadata": {},
     "outputs": [
      {
       "metadata": {},
       "output_type": "pyout",
       "prompt_number": 10,
       "text": [
        "9"
       ]
      }
     ],
     "prompt_number": 10
    },
    {
     "cell_type": "code",
     "collapsed": false,
     "input": [
      "import numpy as np"
     ],
     "language": "python",
     "metadata": {},
     "outputs": [],
     "prompt_number": 11
    },
    {
     "cell_type": "code",
     "collapsed": false,
     "input": [
      "%%cython\n",
      "#import numpy as np\n",
      "cpdef float cdist(float[:] x, float[:] y):\n",
      "    cdef int i\n",
      "    cdef float res\n",
      "    cdef int n = x.shape[0]\n",
      "    res = 0.0\n",
      "    for i in range(n):\n",
      "        res += (x[i]-y[i])**2\n",
      "    return res   \n",
      "    "
     ],
     "language": "python",
     "metadata": {},
     "outputs": [],
     "prompt_number": 14
    },
    {
     "cell_type": "code",
     "collapsed": false,
     "input": [
      "%%cython\n",
      "def csum(double[::1] a):\n",
      "    cdef double s = 0.0\n",
      "    cdef int i, n=a.shape[0]\n",
      "    for i in range(n):\n",
      "        s += a[i]\n",
      "    return s\n",
      "    "
     ],
     "language": "python",
     "metadata": {},
     "outputs": [],
     "prompt_number": 15
    },
    {
     "cell_type": "code",
     "collapsed": false,
     "input": [
      "x = np.array([1,2,3], np.float32)\n",
      "y = np.array([4,2,1], np.float32)\n",
      "print dist(x,y)\n",
      "print sum(x.astype('double'))+sum(y.astype('double'))"
     ],
     "language": "python",
     "metadata": {},
     "outputs": [
      {
       "output_type": "stream",
       "stream": "stdout",
       "text": [
        "13.0\n",
        "13.0\n"
       ]
      }
     ],
     "prompt_number": 16
    },
    {
     "cell_type": "heading",
     "level": 1,
     "metadata": {},
     "source": [
      "Define a state derivative function in c"
     ]
    },
    {
     "cell_type": "code",
     "collapsed": false,
     "input": [
      "%%cython\n",
      "import numpy as np\n",
      "cpdef decay(t,float[:] x, float[:] u, float[:] px):\n",
      "    # , int nx=1, int nu=1, int npx=1\n",
      "    #  def derivative(t,x,u,px,[nx,nu,npx]): return dx\n",
      "    #print type(x)\n",
      "    Lambda = px[0]\n",
      "    dx = np.array([Lambda*x[0]])+u[0]\n",
      "    return dx"
     ],
     "language": "python",
     "metadata": {},
     "outputs": [],
     "prompt_number": 36
    },
    {
     "cell_type": "code",
     "collapsed": false,
     "input": [
      "%%cython\n",
      "import numpy as np\n",
      "cimport numpy as np\n",
      "cpdef decay2(t,np.ndarray x, np.ndarray u, np.ndarray px):\n",
      "    # , int nx=1, int nu=1, int npx=1\n",
      "    #  def derivative(t,x,u,px,[nx,nu,npx]): return dx\n",
      "    #print type(x)\n",
      "    Lambda = px[0]\n",
      "    dx = np.array([Lambda*x[0]])+u[0]\n",
      "    return dx"
     ],
     "language": "python",
     "metadata": {},
     "outputs": [
      {
       "output_type": "stream",
       "stream": "stderr",
       "text": [
        "warning: C:\\Python27\\lib\\site-packages\\Cython\\Includes\\numpy.pxd:869:17: Non-trivial type declarators in shared declaration (e.g. mix of pointers and values). Each pointer declaration should be on its own line.\n",
        "warning: C:\\Python27\\lib\\site-packages\\Cython\\Includes\\numpy.pxd:869:24: Non-trivial type declarators in shared declaration (e.g. mix of pointers and values). Each pointer declaration should be on its own line.\n"
       ]
      }
     ],
     "prompt_number": 40
    },
    {
     "cell_type": "code",
     "collapsed": false,
     "input": [
      "%%cython\n",
      "import numpy as np\n",
      "cimport numpy as cnp\n",
      "cpdef decay3(t,cnp.ndarray x, cnp.ndarray u, cnp.ndarray px):\n",
      "    # , int nx=1, int nu=1, int npx=1\n",
      "    #  def derivative(t,x,u,px,[nx,nu,npx]): return dx\n",
      "    #print type(x)\n",
      "    Lambda = px[0]\n",
      "    dx = np.array([Lambda*x[0]])+u[0]\n",
      "    return dx"
     ],
     "language": "python",
     "metadata": {},
     "outputs": [
      {
       "output_type": "stream",
       "stream": "stderr",
       "text": [
        "warning: C:\\Python27\\lib\\site-packages\\Cython\\Includes\\numpy.pxd:869:17: Non-trivial type declarators in shared declaration (e.g. mix of pointers and values). Each pointer declaration should be on its own line.\n",
        "warning: C:\\Python27\\lib\\site-packages\\Cython\\Includes\\numpy.pxd:869:24: Non-trivial type declarators in shared declaration (e.g. mix of pointers and values). Each pointer declaration should be on its own line.\n"
       ]
      }
     ],
     "prompt_number": 45
    },
    {
     "cell_type": "code",
     "collapsed": false,
     "input": [],
     "language": "python",
     "metadata": {},
     "outputs": []
    },
    {
     "cell_type": "code",
     "collapsed": false,
     "input": [
      "def decayInPython(t, x, u,  px, nx=1, nu=1, npx=1):\n",
      "    #  def derivative(t,x,u,px,[nx,nu,npx]): return dx\n",
      "    #print \"lambda = \", px[0]\n",
      "    Lambda = px[0]\n",
      "    #dx = np.array([ Lambda*x[0]+u[0] ])\n",
      "    #print dx\n",
      "    return np.array([ Lambda*x[0]+u[0] ])"
     ],
     "language": "python",
     "metadata": {},
     "outputs": [],
     "prompt_number": 23
    },
    {
     "cell_type": "code",
     "collapsed": false,
     "input": [
      "px = np.array([-1.0], np.float32)\n",
      "x0 = np.array([12.0], np.float32)\n",
      "u0 = np.array([3.0], np.float32)"
     ],
     "language": "python",
     "metadata": {},
     "outputs": [],
     "prompt_number": 24
    },
    {
     "cell_type": "code",
     "collapsed": false,
     "input": [
      "print px,x0"
     ],
     "language": "python",
     "metadata": {},
     "outputs": [
      {
       "output_type": "stream",
       "stream": "stdout",
       "text": [
        "[-1.] [ 12.]\n"
       ]
      }
     ],
     "prompt_number": 25
    },
    {
     "cell_type": "code",
     "collapsed": false,
     "input": [
      "print decay(0., x0, u0, px)\n",
      "print decay2(0., x0, u0, px)\n",
      "print decay3(0., x0, u0, px)"
     ],
     "language": "python",
     "metadata": {},
     "outputs": [
      {
       "output_type": "stream",
       "stream": "stdout",
       "text": [
        "[-9.]\n",
        "[-9.]\n",
        "[-9.]\n"
       ]
      }
     ],
     "prompt_number": 46
    },
    {
     "cell_type": "code",
     "collapsed": false,
     "input": [
      "#?decay"
     ],
     "language": "python",
     "metadata": {},
     "outputs": [],
     "prompt_number": 27
    },
    {
     "cell_type": "code",
     "collapsed": false,
     "input": [
      "def input0(t,x,pu):\n",
      "    #  def input(t,x,pu,[nx,nu,npu]): return u\n",
      "    return 3.0\n",
      "def output0(t,x,dx,u,px,pu,py):\n",
      "    return x[0]\n",
      "    #  def output(t,x,dx,u,px,pu,py,[nx,nu,ny,npx,npu,npy]): return y"
     ],
     "language": "python",
     "metadata": {},
     "outputs": [],
     "prompt_number": 28
    },
    {
     "cell_type": "code",
     "collapsed": false,
     "input": [
      "#xv,yv = eulerintegration(fdx,fu,fy,x0,tv,px,pu,py,nu,ny,[nx,npx,npu,npy,nt,fdx_extra_args,fu_extra_args,fy_extra_args])\n",
      "t = np.arange(0., 10., 0.1)\n",
      "pu = np.array([999.], np.float32)\n",
      "py = np.array([999.], np.float32)\n",
      "nu = 1\n",
      "ny = 1\n",
      "xv,yv = ode.eulerintegration(decayInPython,input0,output0,x0,t,px,pu,py,nu,ny)"
     ],
     "language": "python",
     "metadata": {},
     "outputs": [],
     "prompt_number": 29
    },
    {
     "cell_type": "code",
     "collapsed": false,
     "input": [
      "xv,yv = ode.eulerintegration(decay,input0,output0,x0,t,px,pu,py,nu,ny)"
     ],
     "language": "python",
     "metadata": {},
     "outputs": [
      {
       "ename": "TypeError",
       "evalue": "decay() takes exactly 4 positional arguments (7 given)",
       "output_type": "pyerr",
       "traceback": [
        "\u001b[1;31m---------------------------------------------------------------------------\u001b[0m\n\u001b[1;31mTypeError\u001b[0m                                 Traceback (most recent call last)",
        "\u001b[1;32m<ipython-input-90-bfd81f8d1cd1>\u001b[0m in \u001b[0;36m<module>\u001b[1;34m()\u001b[0m\n\u001b[1;32m----> 1\u001b[1;33m \u001b[0mxv\u001b[0m\u001b[1;33m,\u001b[0m\u001b[0myv\u001b[0m \u001b[1;33m=\u001b[0m \u001b[0mode\u001b[0m\u001b[1;33m.\u001b[0m\u001b[0meulerintegration\u001b[0m\u001b[1;33m(\u001b[0m\u001b[0mdecay\u001b[0m\u001b[1;33m,\u001b[0m\u001b[0minput0\u001b[0m\u001b[1;33m,\u001b[0m\u001b[0moutput0\u001b[0m\u001b[1;33m,\u001b[0m\u001b[0mx0\u001b[0m\u001b[1;33m,\u001b[0m\u001b[0mt\u001b[0m\u001b[1;33m,\u001b[0m\u001b[0mpx\u001b[0m\u001b[1;33m,\u001b[0m\u001b[0mpu\u001b[0m\u001b[1;33m,\u001b[0m\u001b[0mpy\u001b[0m\u001b[1;33m,\u001b[0m\u001b[0mnu\u001b[0m\u001b[1;33m,\u001b[0m\u001b[0mny\u001b[0m\u001b[1;33m)\u001b[0m\u001b[1;33m\u001b[0m\u001b[0m\n\u001b[0m",
        "\u001b[1;32mC:\\Users\\hakan\\.ipython\\cython\\_cython_magic_24bf00c225676e715113861188f1858f.pyd\u001b[0m in \u001b[0;36m_cython_magic_24bf00c225676e715113861188f1858f.decay (C:\\Users\\hakan\\.ipython\\cython\\_cython_magic_24bf00c225676e715113861188f1858f.c:1559)\u001b[1;34m()\u001b[0m\n",
        "\u001b[1;31mTypeError\u001b[0m: decay() takes exactly 4 positional arguments (7 given)"
       ]
      }
     ],
     "prompt_number": 90
    },
    {
     "cell_type": "code",
     "collapsed": false,
     "input": [
      "xv,yv = ode.eulerintegration(decay3,input0,output0,x0,t,px,pu,py,nu,ny)"
     ],
     "language": "python",
     "metadata": {},
     "outputs": [
      {
       "ename": "TypeError",
       "evalue": "decay3() takes exactly 4 positional arguments (7 given)",
       "output_type": "pyerr",
       "traceback": [
        "\u001b[1;31m---------------------------------------------------------------------------\u001b[0m\n\u001b[1;31mTypeError\u001b[0m                                 Traceback (most recent call last)",
        "\u001b[1;32m<ipython-input-47-2129bb88bd69>\u001b[0m in \u001b[0;36m<module>\u001b[1;34m()\u001b[0m\n\u001b[1;32m----> 1\u001b[1;33m \u001b[0mxv\u001b[0m\u001b[1;33m,\u001b[0m\u001b[0myv\u001b[0m \u001b[1;33m=\u001b[0m \u001b[0mode\u001b[0m\u001b[1;33m.\u001b[0m\u001b[0meulerintegration\u001b[0m\u001b[1;33m(\u001b[0m\u001b[0mdecay3\u001b[0m\u001b[1;33m,\u001b[0m\u001b[0minput0\u001b[0m\u001b[1;33m,\u001b[0m\u001b[0moutput0\u001b[0m\u001b[1;33m,\u001b[0m\u001b[0mx0\u001b[0m\u001b[1;33m,\u001b[0m\u001b[0mt\u001b[0m\u001b[1;33m,\u001b[0m\u001b[0mpx\u001b[0m\u001b[1;33m,\u001b[0m\u001b[0mpu\u001b[0m\u001b[1;33m,\u001b[0m\u001b[0mpy\u001b[0m\u001b[1;33m,\u001b[0m\u001b[0mnu\u001b[0m\u001b[1;33m,\u001b[0m\u001b[0mny\u001b[0m\u001b[1;33m)\u001b[0m\u001b[1;33m\u001b[0m\u001b[0m\n\u001b[0m",
        "\u001b[1;32mC:\\Users\\hakan\\.ipython\\cython\\_cython_magic_2758eae379bd76281deba62ca71d7678.pyd\u001b[0m in \u001b[0;36m_cython_magic_2758eae379bd76281deba62ca71d7678.decay3 (C:\\Users\\hakan\\.ipython\\cython\\_cython_magic_2758eae379bd76281deba62ca71d7678.c:1359)\u001b[1;34m()\u001b[0m\n",
        "\u001b[1;31mTypeError\u001b[0m: decay3() takes exactly 4 positional arguments (7 given)"
       ]
      }
     ],
     "prompt_number": 47
    },
    {
     "cell_type": "code",
     "collapsed": false,
     "input": [
      "#t"
     ],
     "language": "python",
     "metadata": {},
     "outputs": [],
     "prompt_number": 84
    },
    {
     "cell_type": "code",
     "collapsed": false,
     "input": [
      "yv.shape,xv.shape"
     ],
     "language": "python",
     "metadata": {},
     "outputs": [
      {
       "metadata": {},
       "output_type": "pyout",
       "prompt_number": 85,
       "text": [
        "((100, 1), (100, 1))"
       ]
      }
     ],
     "prompt_number": 85
    },
    {
     "cell_type": "code",
     "collapsed": false,
     "input": [
      "pl.plot(t,yv[:,0],'.-')"
     ],
     "language": "python",
     "metadata": {},
     "outputs": [
      {
       "metadata": {},
       "output_type": "pyout",
       "prompt_number": 86,
       "text": [
        "[<matplotlib.lines.Line2D at 0x59b5dd0>]"
       ]
      },
      {
       "metadata": {},
       "output_type": "display_data",
       "png": "[encoded data removed]",
       "text": [
        "<matplotlib.figure.Figure at 0x5bc71f0>"
       ]
      }
     ],
     "prompt_number": 86
    },
    {
     "cell_type": "code",
     "collapsed": false,
     "input": [
      "pl.plot(xv,yv)"
     ],
     "language": "python",
     "metadata": {},
     "outputs": [
      {
       "metadata": {},
       "output_type": "pyout",
       "prompt_number": 71,
       "text": [
        "[<matplotlib.lines.Line2D at 0x8599510>]"
       ]
      },
      {
       "metadata": {},
       "output_type": "display_data",
       "png": "[encoded data removed]",
       "text": [
        "<matplotlib.figure.Figure at 0x5d85fb0>"
       ]
      }
     ],
     "prompt_number": 71
    },
    {
     "cell_type": "code",
     "collapsed": false,
     "input": [],
     "language": "python",
     "metadata": {},
     "outputs": [],
     "prompt_number": 71
    },
    {
     "cell_type": "code",
     "collapsed": false,
     "input": [],
     "language": "python",
     "metadata": {},
     "outputs": []
    }
   ],
   "metadata": {}
  }
 ]
}